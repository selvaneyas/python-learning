{
 "cells": [
  {
   "cell_type": "markdown",
   "metadata": {},
   "source": [
    " # 🛒📊𝐃𝐚𝐲 𝟐𝟓: 𝐀𝐬𝐬𝐨𝐜𝐢𝐚𝐭𝐢𝐨𝐧 𝐑𝐮𝐥𝐞 𝐋𝐞𝐚𝐫𝐧𝐢𝐧𝐠 – 𝐀𝐩𝐫𝐢𝐨𝐫𝐢 & 𝐌𝐚𝐫𝐤𝐞𝐭 𝐁𝐚𝐬𝐤𝐞𝐭 𝐀𝐧𝐚𝐥𝐲𝐬𝐢𝐬 | 𝟑𝟎-𝐃𝐚𝐲 𝐌𝐋 𝐂𝐡𝐚𝐥𝐥𝐞𝐧𝐠𝐞 \n",
    "\n",
    "\n",
    "\n",
    "In the world of data-driven decision-making, understanding customer behavior is key! \n",
    "\n",
    "🔑 Association Rule Learning helps uncover hidden relationships between items, making it invaluable for applications like market basket analysis, recommendation systems, and fraud detection.\n",
    "\n",
    "\n",
    "\n",
    "## 🔍 𝐖𝐡𝐚𝐭 𝐢𝐬 𝐀𝐬𝐬𝐨𝐜𝐢𝐚𝐭𝐢𝐨𝐧 𝐑𝐮𝐥𝐞 𝐋𝐞𝐚𝐫𝐧𝐢𝐧𝐠?\n",
    "\n",
    "It’s a technique used to find patterns and correlations in large datasets. The two key concepts are:\n",
    "\n",
    " 📌 Support – How frequently an itemset appears in transactions.\n",
    "\n",
    " 📌 Confidence – The likelihood that one item appears given another.\n",
    "\n",
    " 📌 Lift – The strength of the association compared to random chance.\n",
    "\n",
    "\n",
    "\n",
    "## 🏆 𝐀𝐩𝐫𝐢𝐨𝐫𝐢 𝐀𝐥𝐠𝐨𝐫𝐢𝐭𝐡𝐦\n",
    "\n",
    "Apriori is an efficient algorithm that iteratively finds frequent itemsets and derives association rules. It’s widely used in retail, e-commerce, and healthcare for insights like:\n",
    "\n",
    " ✅ \"People who buy bread also buy butter!\" 🥖🧈\n",
    "\n",
    " ✅ \"Customers who purchase laptops often buy accessories!\" 💻🎧\n",
    "\n",
    "\n",
    "\n",
    "## 🔥 𝐌𝐚𝐫𝐤𝐞𝐭 𝐁𝐚𝐬𝐤𝐞𝐭 𝐀𝐧𝐚𝐥𝐲𝐬𝐢𝐬 𝐢𝐧 𝐀𝐜𝐭𝐢𝐨𝐧\n",
    "\n",
    " 🔹 Used by Amazon, Walmart, and Netflix to boost cross-selling.\n",
    "\n",
    " 🔹 Helps banks detect fraudulent transactions.\n",
    "\n",
    " 🔹 Optimizes product placement in supermarkets for increased sales.\n"
   ]
  },
  {
   "cell_type": "code",
   "execution_count": 25,
   "metadata": {},
   "outputs": [
    {
     "name": "stdout",
     "output_type": "stream",
     "text": [
      "Requirement already satisfied: networkx in c:\\users\\lenovo\\anaconda3\\lib\\site-packages (3.3)\n"
     ]
    }
   ],
   "source": [
    "!pip install networkx"
   ]
  },
  {
   "cell_type": "code",
   "execution_count": 26,
   "metadata": {},
   "outputs": [
    {
     "name": "stdout",
     "output_type": "stream",
     "text": [
      "Requirement already satisfied: mlxtend in c:\\users\\lenovo\\anaconda3\\lib\\site-packages (0.23.4)\n",
      "Requirement already satisfied: scipy>=1.2.1 in c:\\users\\lenovo\\anaconda3\\lib\\site-packages (from mlxtend) (1.13.1)\n",
      "Requirement already satisfied: numpy>=1.16.2 in c:\\users\\lenovo\\anaconda3\\lib\\site-packages (from mlxtend) (1.26.4)\n",
      "Requirement already satisfied: pandas>=0.24.2 in c:\\users\\lenovo\\anaconda3\\lib\\site-packages (from mlxtend) (2.2.2)\n",
      "Requirement already satisfied: scikit-learn>=1.3.1 in c:\\users\\lenovo\\anaconda3\\lib\\site-packages (from mlxtend) (1.5.1)\n",
      "Requirement already satisfied: matplotlib>=3.0.0 in c:\\users\\lenovo\\anaconda3\\lib\\site-packages (from mlxtend) (3.9.2)\n",
      "Requirement already satisfied: joblib>=0.13.2 in c:\\users\\lenovo\\anaconda3\\lib\\site-packages (from mlxtend) (1.4.2)\n",
      "Requirement already satisfied: contourpy>=1.0.1 in c:\\users\\lenovo\\anaconda3\\lib\\site-packages (from matplotlib>=3.0.0->mlxtend) (1.2.0)\n",
      "Requirement already satisfied: cycler>=0.10 in c:\\users\\lenovo\\anaconda3\\lib\\site-packages (from matplotlib>=3.0.0->mlxtend) (0.11.0)\n",
      "Requirement already satisfied: fonttools>=4.22.0 in c:\\users\\lenovo\\anaconda3\\lib\\site-packages (from matplotlib>=3.0.0->mlxtend) (4.51.0)\n",
      "Requirement already satisfied: kiwisolver>=1.3.1 in c:\\users\\lenovo\\anaconda3\\lib\\site-packages (from matplotlib>=3.0.0->mlxtend) (1.4.4)\n",
      "Requirement already satisfied: packaging>=20.0 in c:\\users\\lenovo\\anaconda3\\lib\\site-packages (from matplotlib>=3.0.0->mlxtend) (24.1)\n",
      "Requirement already satisfied: pillow>=8 in c:\\users\\lenovo\\anaconda3\\lib\\site-packages (from matplotlib>=3.0.0->mlxtend) (10.4.0)\n",
      "Requirement already satisfied: pyparsing>=2.3.1 in c:\\users\\lenovo\\anaconda3\\lib\\site-packages (from matplotlib>=3.0.0->mlxtend) (3.1.2)\n",
      "Requirement already satisfied: python-dateutil>=2.7 in c:\\users\\lenovo\\anaconda3\\lib\\site-packages (from matplotlib>=3.0.0->mlxtend) (2.9.0.post0)\n",
      "Requirement already satisfied: pytz>=2020.1 in c:\\users\\lenovo\\anaconda3\\lib\\site-packages (from pandas>=0.24.2->mlxtend) (2024.1)\n",
      "Requirement already satisfied: tzdata>=2022.7 in c:\\users\\lenovo\\anaconda3\\lib\\site-packages (from pandas>=0.24.2->mlxtend) (2023.3)\n",
      "Requirement already satisfied: threadpoolctl>=3.1.0 in c:\\users\\lenovo\\anaconda3\\lib\\site-packages (from scikit-learn>=1.3.1->mlxtend) (3.5.0)\n",
      "Requirement already satisfied: six>=1.5 in c:\\users\\lenovo\\anaconda3\\lib\\site-packages (from python-dateutil>=2.7->matplotlib>=3.0.0->mlxtend) (1.16.0)\n"
     ]
    }
   ],
   "source": [
    "!pip install mlxtend"
   ]
  },
  {
   "cell_type": "code",
   "execution_count": 27,
   "metadata": {},
   "outputs": [],
   "source": [
    "import pandas as pd\n",
    "import networkx as nx\n",
    "import matplotlib.pyplot as plt\n",
    "import seaborn as sns\n",
    "from mlxtend.frequent_patterns import apriori, association_rules"
   ]
  },
  {
   "cell_type": "code",
   "execution_count": 28,
   "metadata": {},
   "outputs": [],
   "source": [
    "# Sample dataset (Transaction Data)\n",
    "data = {\n",
    "    'Transaction': [1, 2, 3, 4, 5],\n",
    "    'Milk': [1, 0, 1, 1, 0],\n",
    "    'Bread': [1, 1, 1, 0, 1],\n",
    "    'Butter': [0, 1, 1, 1, 0],\n",
    "    'Cheese': [0, 1, 0, 1, 1]\n",
    "}"
   ]
  },
  {
   "cell_type": "code",
   "execution_count": 29,
   "metadata": {},
   "outputs": [],
   "source": [
    "# Convert into DataFrame\n",
    "df = pd.DataFrame(data).set_index('Transaction')"
   ]
  },
  {
   "cell_type": "code",
   "execution_count": 30,
   "metadata": {},
   "outputs": [
    {
     "data": {
      "application/vnd.microsoft.datawrangler.viewer.v0+json": {
       "columns": [
        {
         "name": "Transaction",
         "rawType": "int64",
         "type": "integer"
        },
        {
         "name": "Milk",
         "rawType": "int64",
         "type": "integer"
        },
        {
         "name": "Bread",
         "rawType": "int64",
         "type": "integer"
        },
        {
         "name": "Butter",
         "rawType": "int64",
         "type": "integer"
        },
        {
         "name": "Cheese",
         "rawType": "int64",
         "type": "integer"
        }
       ],
       "conversionMethod": "pd.DataFrame",
       "ref": "53dafaf3-426c-4f44-84a6-48955289fb35",
       "rows": [
        [
         "1",
         "1",
         "1",
         "0",
         "0"
        ],
        [
         "2",
         "0",
         "1",
         "1",
         "1"
        ],
        [
         "3",
         "1",
         "1",
         "1",
         "0"
        ],
        [
         "4",
         "1",
         "0",
         "1",
         "1"
        ],
        [
         "5",
         "0",
         "1",
         "0",
         "1"
        ]
       ],
       "shape": {
        "columns": 4,
        "rows": 5
       }
      },
      "text/html": [
       "<div>\n",
       "<style scoped>\n",
       "    .dataframe tbody tr th:only-of-type {\n",
       "        vertical-align: middle;\n",
       "    }\n",
       "\n",
       "    .dataframe tbody tr th {\n",
       "        vertical-align: top;\n",
       "    }\n",
       "\n",
       "    .dataframe thead th {\n",
       "        text-align: right;\n",
       "    }\n",
       "</style>\n",
       "<table border=\"1\" class=\"dataframe\">\n",
       "  <thead>\n",
       "    <tr style=\"text-align: right;\">\n",
       "      <th></th>\n",
       "      <th>Milk</th>\n",
       "      <th>Bread</th>\n",
       "      <th>Butter</th>\n",
       "      <th>Cheese</th>\n",
       "    </tr>\n",
       "    <tr>\n",
       "      <th>Transaction</th>\n",
       "      <th></th>\n",
       "      <th></th>\n",
       "      <th></th>\n",
       "      <th></th>\n",
       "    </tr>\n",
       "  </thead>\n",
       "  <tbody>\n",
       "    <tr>\n",
       "      <th>1</th>\n",
       "      <td>1</td>\n",
       "      <td>1</td>\n",
       "      <td>0</td>\n",
       "      <td>0</td>\n",
       "    </tr>\n",
       "    <tr>\n",
       "      <th>2</th>\n",
       "      <td>0</td>\n",
       "      <td>1</td>\n",
       "      <td>1</td>\n",
       "      <td>1</td>\n",
       "    </tr>\n",
       "    <tr>\n",
       "      <th>3</th>\n",
       "      <td>1</td>\n",
       "      <td>1</td>\n",
       "      <td>1</td>\n",
       "      <td>0</td>\n",
       "    </tr>\n",
       "    <tr>\n",
       "      <th>4</th>\n",
       "      <td>1</td>\n",
       "      <td>0</td>\n",
       "      <td>1</td>\n",
       "      <td>1</td>\n",
       "    </tr>\n",
       "    <tr>\n",
       "      <th>5</th>\n",
       "      <td>0</td>\n",
       "      <td>1</td>\n",
       "      <td>0</td>\n",
       "      <td>1</td>\n",
       "    </tr>\n",
       "  </tbody>\n",
       "</table>\n",
       "</div>"
      ],
      "text/plain": [
       "             Milk  Bread  Butter  Cheese\n",
       "Transaction                             \n",
       "1               1      1       0       0\n",
       "2               0      1       1       1\n",
       "3               1      1       1       0\n",
       "4               1      0       1       1\n",
       "5               0      1       0       1"
      ]
     },
     "execution_count": 30,
     "metadata": {},
     "output_type": "execute_result"
    }
   ],
   "source": [
    "df"
   ]
  },
  {
   "cell_type": "code",
   "execution_count": 31,
   "metadata": {},
   "outputs": [
    {
     "name": "stderr",
     "output_type": "stream",
     "text": [
      "c:\\Users\\Lenovo\\anaconda3\\Lib\\site-packages\\mlxtend\\frequent_patterns\\fpcommon.py:161: DeprecationWarning: DataFrames with non-bool types result in worse computationalperformance and their support might be discontinued in the future.Please use a DataFrame with bool type\n",
      "  warnings.warn(\n"
     ]
    }
   ],
   "source": [
    "# Apply Apriori Algorithm\n",
    "frequent_itemsets = apriori(df, min_support=0.4, use_colnames=True)\n",
    "rules = association_rules(frequent_itemsets, metric=\"confidence\", min_threshold=0.6)"
   ]
  },
  {
   "cell_type": "code",
   "execution_count": 32,
   "metadata": {},
   "outputs": [
    {
     "data": {
      "application/vnd.microsoft.datawrangler.viewer.v0+json": {
       "columns": [
        {
         "name": "index",
         "rawType": "int64",
         "type": "integer"
        },
        {
         "name": "support",
         "rawType": "float64",
         "type": "float"
        },
        {
         "name": "itemsets",
         "rawType": "object",
         "type": "unknown"
        }
       ],
       "conversionMethod": "pd.DataFrame",
       "ref": "e0b67f10-8db3-460e-9805-d833c4682c11",
       "rows": [
        [
         "0",
         "0.6",
         "frozenset({'Milk'})"
        ],
        [
         "1",
         "0.8",
         "frozenset({'Bread'})"
        ],
        [
         "2",
         "0.6",
         "frozenset({'Butter'})"
        ],
        [
         "3",
         "0.6",
         "frozenset({'Cheese'})"
        ],
        [
         "4",
         "0.4",
         "frozenset({'Milk', 'Bread'})"
        ],
        [
         "5",
         "0.4",
         "frozenset({'Milk', 'Butter'})"
        ],
        [
         "6",
         "0.4",
         "frozenset({'Bread', 'Butter'})"
        ],
        [
         "7",
         "0.4",
         "frozenset({'Cheese', 'Bread'})"
        ],
        [
         "8",
         "0.4",
         "frozenset({'Cheese', 'Butter'})"
        ]
       ],
       "shape": {
        "columns": 2,
        "rows": 9
       }
      },
      "text/html": [
       "<div>\n",
       "<style scoped>\n",
       "    .dataframe tbody tr th:only-of-type {\n",
       "        vertical-align: middle;\n",
       "    }\n",
       "\n",
       "    .dataframe tbody tr th {\n",
       "        vertical-align: top;\n",
       "    }\n",
       "\n",
       "    .dataframe thead th {\n",
       "        text-align: right;\n",
       "    }\n",
       "</style>\n",
       "<table border=\"1\" class=\"dataframe\">\n",
       "  <thead>\n",
       "    <tr style=\"text-align: right;\">\n",
       "      <th></th>\n",
       "      <th>support</th>\n",
       "      <th>itemsets</th>\n",
       "    </tr>\n",
       "  </thead>\n",
       "  <tbody>\n",
       "    <tr>\n",
       "      <th>0</th>\n",
       "      <td>0.6</td>\n",
       "      <td>(Milk)</td>\n",
       "    </tr>\n",
       "    <tr>\n",
       "      <th>1</th>\n",
       "      <td>0.8</td>\n",
       "      <td>(Bread)</td>\n",
       "    </tr>\n",
       "    <tr>\n",
       "      <th>2</th>\n",
       "      <td>0.6</td>\n",
       "      <td>(Butter)</td>\n",
       "    </tr>\n",
       "    <tr>\n",
       "      <th>3</th>\n",
       "      <td>0.6</td>\n",
       "      <td>(Cheese)</td>\n",
       "    </tr>\n",
       "    <tr>\n",
       "      <th>4</th>\n",
       "      <td>0.4</td>\n",
       "      <td>(Milk, Bread)</td>\n",
       "    </tr>\n",
       "    <tr>\n",
       "      <th>5</th>\n",
       "      <td>0.4</td>\n",
       "      <td>(Milk, Butter)</td>\n",
       "    </tr>\n",
       "    <tr>\n",
       "      <th>6</th>\n",
       "      <td>0.4</td>\n",
       "      <td>(Bread, Butter)</td>\n",
       "    </tr>\n",
       "    <tr>\n",
       "      <th>7</th>\n",
       "      <td>0.4</td>\n",
       "      <td>(Cheese, Bread)</td>\n",
       "    </tr>\n",
       "    <tr>\n",
       "      <th>8</th>\n",
       "      <td>0.4</td>\n",
       "      <td>(Cheese, Butter)</td>\n",
       "    </tr>\n",
       "  </tbody>\n",
       "</table>\n",
       "</div>"
      ],
      "text/plain": [
       "   support          itemsets\n",
       "0      0.6            (Milk)\n",
       "1      0.8           (Bread)\n",
       "2      0.6          (Butter)\n",
       "3      0.6          (Cheese)\n",
       "4      0.4     (Milk, Bread)\n",
       "5      0.4    (Milk, Butter)\n",
       "6      0.4   (Bread, Butter)\n",
       "7      0.4   (Cheese, Bread)\n",
       "8      0.4  (Cheese, Butter)"
      ]
     },
     "execution_count": 32,
     "metadata": {},
     "output_type": "execute_result"
    }
   ],
   "source": [
    "frequent_itemsets"
   ]
  },
  {
   "cell_type": "code",
   "execution_count": 33,
   "metadata": {},
   "outputs": [
    {
     "data": {
      "application/vnd.microsoft.datawrangler.viewer.v0+json": {
       "columns": [
        {
         "name": "index",
         "rawType": "int64",
         "type": "integer"
        },
        {
         "name": "antecedents",
         "rawType": "object",
         "type": "unknown"
        },
        {
         "name": "consequents",
         "rawType": "object",
         "type": "unknown"
        },
        {
         "name": "antecedent support",
         "rawType": "float64",
         "type": "float"
        },
        {
         "name": "consequent support",
         "rawType": "float64",
         "type": "float"
        },
        {
         "name": "support",
         "rawType": "float64",
         "type": "float"
        },
        {
         "name": "confidence",
         "rawType": "float64",
         "type": "float"
        },
        {
         "name": "lift",
         "rawType": "float64",
         "type": "float"
        },
        {
         "name": "representativity",
         "rawType": "float64",
         "type": "float"
        },
        {
         "name": "leverage",
         "rawType": "float64",
         "type": "float"
        },
        {
         "name": "conviction",
         "rawType": "float64",
         "type": "float"
        },
        {
         "name": "zhangs_metric",
         "rawType": "float64",
         "type": "float"
        },
        {
         "name": "jaccard",
         "rawType": "float64",
         "type": "float"
        },
        {
         "name": "certainty",
         "rawType": "float64",
         "type": "float"
        },
        {
         "name": "kulczynski",
         "rawType": "float64",
         "type": "float"
        }
       ],
       "conversionMethod": "pd.DataFrame",
       "ref": "9df7632b-53bd-4f0b-b02e-0d1ce032c5dc",
       "rows": [
        [
         "0",
         "frozenset({'Milk'})",
         "frozenset({'Bread'})",
         "0.6",
         "0.8",
         "0.4",
         "0.6666666666666667",
         "0.8333333333333334",
         "1.0",
         "-0.07999999999999996",
         "0.6",
         "-0.3333333333333332",
         "0.4000000000000001",
         "-0.6666666666666666",
         "0.5833333333333334"
        ],
        [
         "1",
         "frozenset({'Milk'})",
         "frozenset({'Butter'})",
         "0.6",
         "0.6",
         "0.4",
         "0.6666666666666667",
         "1.1111111111111114",
         "1.0",
         "0.040000000000000036",
         "1.2000000000000004",
         "0.25000000000000017",
         "0.5000000000000001",
         "0.1666666666666669",
         "0.6666666666666667"
        ],
        [
         "2",
         "frozenset({'Butter'})",
         "frozenset({'Milk'})",
         "0.6",
         "0.6",
         "0.4",
         "0.6666666666666667",
         "1.1111111111111114",
         "1.0",
         "0.040000000000000036",
         "1.2000000000000004",
         "0.25000000000000017",
         "0.5000000000000001",
         "0.1666666666666669",
         "0.6666666666666667"
        ],
        [
         "3",
         "frozenset({'Butter'})",
         "frozenset({'Bread'})",
         "0.6",
         "0.8",
         "0.4",
         "0.6666666666666667",
         "0.8333333333333334",
         "1.0",
         "-0.07999999999999996",
         "0.6",
         "-0.3333333333333332",
         "0.4000000000000001",
         "-0.6666666666666666",
         "0.5833333333333334"
        ],
        [
         "4",
         "frozenset({'Cheese'})",
         "frozenset({'Bread'})",
         "0.6",
         "0.8",
         "0.4",
         "0.6666666666666667",
         "0.8333333333333334",
         "1.0",
         "-0.07999999999999996",
         "0.6",
         "-0.3333333333333332",
         "0.4000000000000001",
         "-0.6666666666666666",
         "0.5833333333333334"
        ],
        [
         "5",
         "frozenset({'Cheese'})",
         "frozenset({'Butter'})",
         "0.6",
         "0.6",
         "0.4",
         "0.6666666666666667",
         "1.1111111111111114",
         "1.0",
         "0.040000000000000036",
         "1.2000000000000004",
         "0.25000000000000017",
         "0.5000000000000001",
         "0.1666666666666669",
         "0.6666666666666667"
        ],
        [
         "6",
         "frozenset({'Butter'})",
         "frozenset({'Cheese'})",
         "0.6",
         "0.6",
         "0.4",
         "0.6666666666666667",
         "1.1111111111111114",
         "1.0",
         "0.040000000000000036",
         "1.2000000000000004",
         "0.25000000000000017",
         "0.5000000000000001",
         "0.1666666666666669",
         "0.6666666666666667"
        ]
       ],
       "shape": {
        "columns": 14,
        "rows": 7
       }
      },
      "text/html": [
       "<div>\n",
       "<style scoped>\n",
       "    .dataframe tbody tr th:only-of-type {\n",
       "        vertical-align: middle;\n",
       "    }\n",
       "\n",
       "    .dataframe tbody tr th {\n",
       "        vertical-align: top;\n",
       "    }\n",
       "\n",
       "    .dataframe thead th {\n",
       "        text-align: right;\n",
       "    }\n",
       "</style>\n",
       "<table border=\"1\" class=\"dataframe\">\n",
       "  <thead>\n",
       "    <tr style=\"text-align: right;\">\n",
       "      <th></th>\n",
       "      <th>antecedents</th>\n",
       "      <th>consequents</th>\n",
       "      <th>antecedent support</th>\n",
       "      <th>consequent support</th>\n",
       "      <th>support</th>\n",
       "      <th>confidence</th>\n",
       "      <th>lift</th>\n",
       "      <th>representativity</th>\n",
       "      <th>leverage</th>\n",
       "      <th>conviction</th>\n",
       "      <th>zhangs_metric</th>\n",
       "      <th>jaccard</th>\n",
       "      <th>certainty</th>\n",
       "      <th>kulczynski</th>\n",
       "    </tr>\n",
       "  </thead>\n",
       "  <tbody>\n",
       "    <tr>\n",
       "      <th>0</th>\n",
       "      <td>(Milk)</td>\n",
       "      <td>(Bread)</td>\n",
       "      <td>0.6</td>\n",
       "      <td>0.8</td>\n",
       "      <td>0.4</td>\n",
       "      <td>0.666667</td>\n",
       "      <td>0.833333</td>\n",
       "      <td>1.0</td>\n",
       "      <td>-0.08</td>\n",
       "      <td>0.6</td>\n",
       "      <td>-0.333333</td>\n",
       "      <td>0.4</td>\n",
       "      <td>-0.666667</td>\n",
       "      <td>0.583333</td>\n",
       "    </tr>\n",
       "    <tr>\n",
       "      <th>1</th>\n",
       "      <td>(Milk)</td>\n",
       "      <td>(Butter)</td>\n",
       "      <td>0.6</td>\n",
       "      <td>0.6</td>\n",
       "      <td>0.4</td>\n",
       "      <td>0.666667</td>\n",
       "      <td>1.111111</td>\n",
       "      <td>1.0</td>\n",
       "      <td>0.04</td>\n",
       "      <td>1.2</td>\n",
       "      <td>0.250000</td>\n",
       "      <td>0.5</td>\n",
       "      <td>0.166667</td>\n",
       "      <td>0.666667</td>\n",
       "    </tr>\n",
       "    <tr>\n",
       "      <th>2</th>\n",
       "      <td>(Butter)</td>\n",
       "      <td>(Milk)</td>\n",
       "      <td>0.6</td>\n",
       "      <td>0.6</td>\n",
       "      <td>0.4</td>\n",
       "      <td>0.666667</td>\n",
       "      <td>1.111111</td>\n",
       "      <td>1.0</td>\n",
       "      <td>0.04</td>\n",
       "      <td>1.2</td>\n",
       "      <td>0.250000</td>\n",
       "      <td>0.5</td>\n",
       "      <td>0.166667</td>\n",
       "      <td>0.666667</td>\n",
       "    </tr>\n",
       "    <tr>\n",
       "      <th>3</th>\n",
       "      <td>(Butter)</td>\n",
       "      <td>(Bread)</td>\n",
       "      <td>0.6</td>\n",
       "      <td>0.8</td>\n",
       "      <td>0.4</td>\n",
       "      <td>0.666667</td>\n",
       "      <td>0.833333</td>\n",
       "      <td>1.0</td>\n",
       "      <td>-0.08</td>\n",
       "      <td>0.6</td>\n",
       "      <td>-0.333333</td>\n",
       "      <td>0.4</td>\n",
       "      <td>-0.666667</td>\n",
       "      <td>0.583333</td>\n",
       "    </tr>\n",
       "    <tr>\n",
       "      <th>4</th>\n",
       "      <td>(Cheese)</td>\n",
       "      <td>(Bread)</td>\n",
       "      <td>0.6</td>\n",
       "      <td>0.8</td>\n",
       "      <td>0.4</td>\n",
       "      <td>0.666667</td>\n",
       "      <td>0.833333</td>\n",
       "      <td>1.0</td>\n",
       "      <td>-0.08</td>\n",
       "      <td>0.6</td>\n",
       "      <td>-0.333333</td>\n",
       "      <td>0.4</td>\n",
       "      <td>-0.666667</td>\n",
       "      <td>0.583333</td>\n",
       "    </tr>\n",
       "    <tr>\n",
       "      <th>5</th>\n",
       "      <td>(Cheese)</td>\n",
       "      <td>(Butter)</td>\n",
       "      <td>0.6</td>\n",
       "      <td>0.6</td>\n",
       "      <td>0.4</td>\n",
       "      <td>0.666667</td>\n",
       "      <td>1.111111</td>\n",
       "      <td>1.0</td>\n",
       "      <td>0.04</td>\n",
       "      <td>1.2</td>\n",
       "      <td>0.250000</td>\n",
       "      <td>0.5</td>\n",
       "      <td>0.166667</td>\n",
       "      <td>0.666667</td>\n",
       "    </tr>\n",
       "    <tr>\n",
       "      <th>6</th>\n",
       "      <td>(Butter)</td>\n",
       "      <td>(Cheese)</td>\n",
       "      <td>0.6</td>\n",
       "      <td>0.6</td>\n",
       "      <td>0.4</td>\n",
       "      <td>0.666667</td>\n",
       "      <td>1.111111</td>\n",
       "      <td>1.0</td>\n",
       "      <td>0.04</td>\n",
       "      <td>1.2</td>\n",
       "      <td>0.250000</td>\n",
       "      <td>0.5</td>\n",
       "      <td>0.166667</td>\n",
       "      <td>0.666667</td>\n",
       "    </tr>\n",
       "  </tbody>\n",
       "</table>\n",
       "</div>"
      ],
      "text/plain": [
       "  antecedents consequents  antecedent support  consequent support  support  \\\n",
       "0      (Milk)     (Bread)                 0.6                 0.8      0.4   \n",
       "1      (Milk)    (Butter)                 0.6                 0.6      0.4   \n",
       "2    (Butter)      (Milk)                 0.6                 0.6      0.4   \n",
       "3    (Butter)     (Bread)                 0.6                 0.8      0.4   \n",
       "4    (Cheese)     (Bread)                 0.6                 0.8      0.4   \n",
       "5    (Cheese)    (Butter)                 0.6                 0.6      0.4   \n",
       "6    (Butter)    (Cheese)                 0.6                 0.6      0.4   \n",
       "\n",
       "   confidence      lift  representativity  leverage  conviction  \\\n",
       "0    0.666667  0.833333               1.0     -0.08         0.6   \n",
       "1    0.666667  1.111111               1.0      0.04         1.2   \n",
       "2    0.666667  1.111111               1.0      0.04         1.2   \n",
       "3    0.666667  0.833333               1.0     -0.08         0.6   \n",
       "4    0.666667  0.833333               1.0     -0.08         0.6   \n",
       "5    0.666667  1.111111               1.0      0.04         1.2   \n",
       "6    0.666667  1.111111               1.0      0.04         1.2   \n",
       "\n",
       "   zhangs_metric  jaccard  certainty  kulczynski  \n",
       "0      -0.333333      0.4  -0.666667    0.583333  \n",
       "1       0.250000      0.5   0.166667    0.666667  \n",
       "2       0.250000      0.5   0.166667    0.666667  \n",
       "3      -0.333333      0.4  -0.666667    0.583333  \n",
       "4      -0.333333      0.4  -0.666667    0.583333  \n",
       "5       0.250000      0.5   0.166667    0.666667  \n",
       "6       0.250000      0.5   0.166667    0.666667  "
      ]
     },
     "execution_count": 33,
     "metadata": {},
     "output_type": "execute_result"
    }
   ],
   "source": [
    "rules"
   ]
  },
  {
   "cell_type": "code",
   "execution_count": 34,
   "metadata": {},
   "outputs": [
    {
     "name": "stderr",
     "output_type": "stream",
     "text": [
      "c:\\Users\\Lenovo\\anaconda3\\Lib\\site-packages\\mlxtend\\frequent_patterns\\fpcommon.py:161: DeprecationWarning: DataFrames with non-bool types result in worse computationalperformance and their support might be discontinued in the future.Please use a DataFrame with bool type\n",
      "  warnings.warn(\n"
     ]
    }
   ],
   "source": [
    "# Apply Apriori Algorithm\n",
    "frequent_itemsets = apriori(df, min_support=0.4, use_colnames=True)"
   ]
  },
  {
   "cell_type": "code",
   "execution_count": 35,
   "metadata": {},
   "outputs": [],
   "source": [
    "# Generate association rules\n",
    "rules = association_rules(frequent_itemsets, metric=\"confidence\", min_threshold=0.6)"
   ]
  },
  {
   "cell_type": "code",
   "execution_count": 36,
   "metadata": {},
   "outputs": [
    {
     "name": "stdout",
     "output_type": "stream",
     "text": [
      "Frequent Itemsets:\n",
      "    support          itemsets\n",
      "0      0.6            (Milk)\n",
      "1      0.8           (Bread)\n",
      "2      0.6          (Butter)\n",
      "3      0.6          (Cheese)\n",
      "4      0.4     (Milk, Bread)\n",
      "5      0.4    (Milk, Butter)\n",
      "6      0.4   (Bread, Butter)\n",
      "7      0.4   (Cheese, Bread)\n",
      "8      0.4  (Cheese, Butter)\n",
      "\n",
      "Association Rules:\n",
      "   antecedents consequents  support  confidence      lift\n",
      "0      (Milk)     (Bread)      0.4    0.666667  0.833333\n",
      "1      (Milk)    (Butter)      0.4    0.666667  1.111111\n",
      "2    (Butter)      (Milk)      0.4    0.666667  1.111111\n",
      "3    (Butter)     (Bread)      0.4    0.666667  0.833333\n",
      "4    (Cheese)     (Bread)      0.4    0.666667  0.833333\n",
      "5    (Cheese)    (Butter)      0.4    0.666667  1.111111\n",
      "6    (Butter)    (Cheese)      0.4    0.666667  1.111111\n"
     ]
    }
   ],
   "source": [
    "# Display results\n",
    "print(\"Frequent Itemsets:\\n\", frequent_itemsets)\n",
    "print(\"\\nAssociation Rules:\\n\", rules[['antecedents', 'consequents', 'support', 'confidence', 'lift']])"
   ]
  },
  {
   "cell_type": "markdown",
   "metadata": {},
   "source": [
    "## **Network Graph Visualization of Association Rules**"
   ]
  },
  {
   "cell_type": "code",
   "execution_count": 37,
   "metadata": {},
   "outputs": [],
   "source": [
    "def plot_association_rules(rules):\n",
    "    G = nx.DiGraph()\n",
    "\n",
    "    for _, rule in rules.iterrows():\n",
    "        for item in rule['antecedents']:\n",
    "            for consequent in rule['consequents']:\n",
    "                G.add_edge(item, consequent, weight=rule['confidence'])\n",
    "\n",
    "    plt.figure(figsize=(8, 6))\n",
    "    pos = nx.spring_layout(G, seed=42)  \n",
    "    edges = G.edges(data=True)\n",
    "\n",
    "    nx.draw(G, pos, with_labels=True, node_size=3000, node_color=\"lightblue\", edge_color=\"gray\")\n",
    "    edge_labels = {(u, v): f\"{d['weight']:.2f}\" for u, v, d in edges}\n",
    "    nx.draw_networkx_edge_labels(G, pos, edge_labels=edge_labels, font_size=10)\n",
    "\n",
    "    plt.title(\"Association Rules Network Graph\")\n",
    "    plt.show()"
   ]
  },
  {
   "cell_type": "markdown",
   "metadata": {},
   "source": [
    "## **Heatmap of Item Support**"
   ]
  },
  {
   "cell_type": "code",
   "execution_count": 38,
   "metadata": {},
   "outputs": [],
   "source": [
    "def plot_support_heatmap(frequent_itemsets):\n",
    "    plt.figure(figsize=(8, 5))\n",
    "    items = list(set([item for itemset in frequent_itemsets['itemsets'] for item in itemset]))\n",
    "    support_matrix = pd.DataFrame(0, index=items, columns=items)\n",
    "\n",
    "    for _, row in frequent_itemsets.iterrows():\n",
    "        for item1 in row['itemsets']:\n",
    "            for item2 in row['itemsets']:\n",
    "                if item1 != item2:\n",
    "                    support_matrix.loc[item1, item2] = row['support']\n",
    "\n",
    "    plt.title(\"Itemset Support Heatmap\")\n",
    "    sns.heatmap(support_matrix, cmap=\"Blues\", annot=True, fmt=\".2f\")\n",
    "    plt.show()"
   ]
  },
  {
   "cell_type": "code",
   "execution_count": 39,
   "metadata": {},
   "outputs": [
    {
     "data": {
      "image/png": "[encoded data removed]",
      "text/plain": [
       "<Figure size 800x600 with 1 Axes>"
      ]
     },
     "metadata": {},
     "output_type": "display_data"
    }
   ],
   "source": [
    "# Call the visualization functions\n",
    "plot_association_rules(rules)"
   ]
  },
  {
   "cell_type": "code",
   "execution_count": 40,
   "metadata": {},
   "outputs": [
    {
     "name": "stderr",
     "output_type": "stream",
     "text": [
      "C:\\Users\\Lenovo\\AppData\\Local\\Temp\\ipykernel_16116\\1990112451.py:10: FutureWarning: Setting an item of incompatible dtype is deprecated and will raise an error in a future version of pandas. Value '0.4' has dtype incompatible with int64, please explicitly cast to a compatible dtype first.\n",
      "  support_matrix.loc[item1, item2] = row['support']\n",
      "C:\\Users\\Lenovo\\AppData\\Local\\Temp\\ipykernel_16116\\1990112451.py:10: FutureWarning: Setting an item of incompatible dtype is deprecated and will raise an error in a future version of pandas. Value '0.4' has dtype incompatible with int64, please explicitly cast to a compatible dtype first.\n",
      "  support_matrix.loc[item1, item2] = row['support']\n",
      "C:\\Users\\Lenovo\\AppData\\Local\\Temp\\ipykernel_16116\\1990112451.py:10: FutureWarning: Setting an item of incompatible dtype is deprecated and will raise an error in a future version of pandas. Value '0.4' has dtype incompatible with int64, please explicitly cast to a compatible dtype first.\n",
      "  support_matrix.loc[item1, item2] = row['support']\n",
      "C:\\Users\\Lenovo\\AppData\\Local\\Temp\\ipykernel_16116\\1990112451.py:10: FutureWarning: Setting an item of incompatible dtype is deprecated and will raise an error in a future version of pandas. Value '0.4' has dtype incompatible with int64, please explicitly cast to a compatible dtype first.\n",
      "  support_matrix.loc[item1, item2] = row['support']\n"
     ]
    },
    {
     "data": {
      "image/png": "[encoded data removed]",
      "text/plain": [
       "<Figure size 800x500 with 2 Axes>"
      ]
     },
     "metadata": {},
     "output_type": "display_data"
    }
   ],
   "source": [
    "# Call the visualization functions\n",
    "plot_support_heatmap(frequent_itemsets)"
   ]
  },
  {
   "cell_type": "code",
   "execution_count": null,
   "metadata": {},
   "outputs": [],
   "source": []
  }
 ],
 "metadata": {
  "kernelspec": {
   "display_name": "base",
   "language": "python",
   "name": "python3"
  },
  "language_info": {
   "codemirror_mode": {
    "name": "ipython",
    "version": 3
   },
   "file_extension": ".py",
   "mimetype": "text/x-python",
   "name": "python",
   "nbconvert_exporter": "python",
   "pygments_lexer": "ipython3",
   "version": "3.12.3"
  }
 },
 "nbformat": 4,
 "nbformat_minor": 2
}

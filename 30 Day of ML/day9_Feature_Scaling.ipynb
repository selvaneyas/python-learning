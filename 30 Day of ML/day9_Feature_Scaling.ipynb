{
 "cells": [
  {
   "cell_type": "markdown",
   "metadata": {},
   "source": [
    "# ⚖ 𝐃𝐚𝐲 𝟗: 𝐅𝐞𝐚𝐭𝐮𝐫𝐞 𝐒𝐜𝐚𝐥𝐢𝐧𝐠 – 𝐍𝐨𝐫𝐦𝐚𝐥𝐢𝐳𝐚𝐭𝐢𝐨𝐧 & 𝐒𝐭𝐚𝐧𝐝𝐚𝐫𝐝𝐢𝐳𝐚𝐭𝐢𝐨𝐧 𝐢𝐧 𝐌𝐚𝐜𝐡𝐢𝐧𝐞 𝐋𝐞𝐚𝐫𝐧𝐢𝐧𝐠 | 𝟑𝟎-𝐃𝐚𝐲 𝐌𝐋 𝐂𝐡𝐚𝐥𝐥𝐞𝐧𝐠𝐞\n",
    "\n",
    "\n",
    "\n",
    "Feature scaling is a crucial preprocessing step in machine learning. Many algorithms perform better when numerical features are on the same scale. Today, we’ll explore Normalization and Standardization—two widely used techniques.\n",
    "\n",
    "\n",
    "\n",
    "## 🔍 Why Feature Scaling?\n",
    "\n",
    "     ✅ Improves Model Performance – Some ML algorithms are sensitive to scale differences.\n",
    "\n",
    "     ✅ Speeds Up Training – Gradient descent converges faster when features are scaled.\n",
    "\n",
    "     ✅ Enhances Comparability – Keeps all features on a similar range.\n",
    "\n",
    "\n",
    "\n",
    "## 📌 Normalization (Min-Max Scaling)\n",
    "\n",
    "Normalization (also called Min-Max Scaling) transforms features to a fixed range, typically [0,1] or [-1,1].\n",
    "\n",
    "\n",
    "\n",
    "      ✅ Best for neural networks and distance-based models (e.g., KNN, K-Means).\n",
    "\n",
    "🔹 Transforms values between 0 and 1.\n",
    "\n",
    "🔹 Sensitive to outliers (can distort scaling).\n",
    "\n",
    "\n",
    "\n",
    "## 📌 Standardization (Z-Score Scaling)\n",
    "\n",
    "Standardization (also called Z-score normalization) transforms features to have zero mean and unit variance.\n",
    "\n",
    "\n",
    "\n",
    "     ✅ Best for algorithms like Logistic Regression, SVM, PCA, and Linear Regression.\n",
    "\n",
    "🔹 Works well for normally distributed data.\n",
    "\n",
    "🔹 Less sensitive to outliers than Min-Max Scaling.\n",
    "\n",
    "\n",
    "\n",
    "## 🚀 When to Use Which?\n",
    "\n",
    "🔹 Use Normalization if the data follows a non-Gaussian distribution and models like KNN, K-Means, Neural Networks.\n",
    "\n",
    "🔹 Use Standardization if the data is normally distributed or required by algorithms like SVM, Linear Regression, or PCA.\n",
    "\n",
    "\n",
    "\n",
    "## 📌 Summary & Key Takeaways\n",
    "\n",
    "✅ Scaling is crucial for optimal model performance.\n",
    "\n",
    "✅ Normalization (Min-Max) scales data between [0,1].\n",
    "\n",
    "✅ Standardization (Z-score) ensures zero mean and unit variance.\n",
    "\n",
    "✅ Different algorithms prefer different scaling techniques."
   ]
  },
  {
   "attachments": {
    "image.png": {
     "image/png": "[encoded data removed]"
    }
   },
   "cell_type": "markdown",
   "metadata": {},
   "source": [
    "![image.png](attachment:image.png)"
   ]
  },
  {
   "cell_type": "code",
   "execution_count": null,
   "metadata": {
    "vscode": {
     "languageId": "plaintext"
    }
   },
   "outputs": [],
   "source": []
  }
 ],
 "metadata": {
  "language_info": {
   "name": "python"
  }
 },
 "nbformat": 4,
 "nbformat_minor": 2
}

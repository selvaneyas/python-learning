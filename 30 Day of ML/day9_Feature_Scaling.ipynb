{
 "cells": [
  {
   "cell_type": "markdown",
   "metadata": {},
   "source": [
    "# ⚖ 𝐃𝐚𝐲 𝟗: 𝐅𝐞𝐚𝐭𝐮𝐫𝐞 𝐒𝐜𝐚𝐥𝐢𝐧𝐠 – 𝐍𝐨𝐫𝐦𝐚𝐥𝐢𝐳𝐚𝐭𝐢𝐨𝐧 & 𝐒𝐭𝐚𝐧𝐝𝐚𝐫𝐝𝐢𝐳𝐚𝐭𝐢𝐨𝐧 𝐢𝐧 𝐌𝐚𝐜𝐡𝐢𝐧𝐞 𝐋𝐞𝐚𝐫𝐧𝐢𝐧𝐠 | 𝟑𝟎-𝐃𝐚𝐲 𝐌𝐋 𝐂𝐡𝐚𝐥𝐥𝐞𝐧𝐠𝐞\n",
    "\n",
    "\n",
    "\n",
    "Feature scaling is a crucial preprocessing step in machine learning. Many algorithms perform better when numerical features are on the same scale. Today, we’ll explore Normalization and Standardization—two widely used techniques.\n",
    "\n",
    "\n",
    "\n",
    "## 🔍 Why Feature Scaling?\n",
    "\n",
    "     ✅ Improves Model Performance – Some ML algorithms are sensitive to scale differences.\n",
    "\n",
    "     ✅ Speeds Up Training – Gradient descent converges faster when features are scaled.\n",
    "\n",
    "     ✅ Enhances Comparability – Keeps all features on a similar range.\n",
    "\n",
    "\n",
    "\n",
    "## 📌 Normalization (Min-Max Scaling)\n",
    "\n",
    "Normalization (also called Min-Max Scaling) transforms features to a fixed range, typically [0,1] or [-1,1].\n",
    "\n",
    "\n",
    "\n",
    "      ✅ Best for neural networks and distance-based models (e.g., KNN, K-Means).\n",
    "\n",
    "🔹 Transforms values between 0 and 1.\n",
    "\n",
    "🔹 Sensitive to outliers (can distort scaling).\n",
    "\n",
    "\n",
    "\n",
    "## 📌 Standardization (Z-Score Scaling)\n",
    "\n",
    "Standardization (also called Z-score normalization) transforms features to have zero mean and unit variance.\n",
    "\n",
    "\n",
    "\n",
    "     ✅ Best for algorithms like Logistic Regression, SVM, PCA, and Linear Regression.\n",
    "\n",
    "🔹 Works well for normally distributed data.\n",
    "\n",
    "🔹 Less sensitive to outliers than Min-Max Scaling.\n",
    "\n",
    "\n",
    "\n",
    "## 🚀 When to Use Which?\n",
    "\n",
    "🔹 Use Normalization if the data follows a non-Gaussian distribution and models like KNN, K-Means, Neural Networks.\n",
    "\n",
    "🔹 Use Standardization if the data is normally distributed or required by algorithms like SVM, Linear Regression, or PCA.\n",
    "\n",
    "\n",
    "\n",
    "## 📌 Summary & Key Takeaways\n",
    "\n",
    "✅ Scaling is crucial for optimal model performance.\n",
    "\n",
    "✅ Normalization (Min-Max) scales data between [0,1].\n",
    "\n",
    "✅ Standardization (Z-score) ensures zero mean and unit variance.\n",
    "\n",
    "✅ Different algorithms prefer different scaling techniques."
   ]
  },
  {
   "cell_type": "markdown",
   "metadata": {},
   "source": [
    "## 📌 Normalization (Min-Max Scaling)"
   ]
  },
  {
   "attachments": {
    "image.png": {
     "image/png": "[encoded data removed]"
    }
   },
   "cell_type": "markdown",
   "metadata": {},
   "source": [
    "![image.png](attachment:image.png)"
   ]
  },
  {
   "cell_type": "code",
   "execution_count": null,
   "metadata": {},
   "outputs": [],
   "source": [
    "import pandas as pd\n",
    "import numpy as np\n",
    "\n",
    "from sklearn.preprocessing import MinMaxScaler"
   ]
  },
  {
   "cell_type": "code",
   "execution_count": 2,
   "metadata": {},
   "outputs": [],
   "source": [
    "# Sample dataset\n",
    "data = {'feature1': [10, 20, 30, 40, 50], 'feature2': [200, 400, 600, 800, 1000]}\n",
    "df = pd.DataFrame(data)"
   ]
  },
  {
   "cell_type": "code",
   "execution_count": 3,
   "metadata": {},
   "outputs": [
    {
     "data": {
      "application/vnd.microsoft.datawrangler.viewer.v0+json": {
       "columns": [
        {
         "name": "index",
         "rawType": "int64",
         "type": "integer"
        },
        {
         "name": "feature1",
         "rawType": "int64",
         "type": "integer"
        },
        {
         "name": "feature2",
         "rawType": "int64",
         "type": "integer"
        }
       ],
       "conversionMethod": "pd.DataFrame",
       "ref": "b504842b-cfb0-4fc7-a999-d059f2010d84",
       "rows": [
        [
         "0",
         "10",
         "200"
        ],
        [
         "1",
         "20",
         "400"
        ],
        [
         "2",
         "30",
         "600"
        ],
        [
         "3",
         "40",
         "800"
        ],
        [
         "4",
         "50",
         "1000"
        ]
       ],
       "shape": {
        "columns": 2,
        "rows": 5
       }
      },
      "text/html": [
       "<div>\n",
       "<style scoped>\n",
       "    .dataframe tbody tr th:only-of-type {\n",
       "        vertical-align: middle;\n",
       "    }\n",
       "\n",
       "    .dataframe tbody tr th {\n",
       "        vertical-align: top;\n",
       "    }\n",
       "\n",
       "    .dataframe thead th {\n",
       "        text-align: right;\n",
       "    }\n",
       "</style>\n",
       "<table border=\"1\" class=\"dataframe\">\n",
       "  <thead>\n",
       "    <tr style=\"text-align: right;\">\n",
       "      <th></th>\n",
       "      <th>feature1</th>\n",
       "      <th>feature2</th>\n",
       "    </tr>\n",
       "  </thead>\n",
       "  <tbody>\n",
       "    <tr>\n",
       "      <th>0</th>\n",
       "      <td>10</td>\n",
       "      <td>200</td>\n",
       "    </tr>\n",
       "    <tr>\n",
       "      <th>1</th>\n",
       "      <td>20</td>\n",
       "      <td>400</td>\n",
       "    </tr>\n",
       "    <tr>\n",
       "      <th>2</th>\n",
       "      <td>30</td>\n",
       "      <td>600</td>\n",
       "    </tr>\n",
       "    <tr>\n",
       "      <th>3</th>\n",
       "      <td>40</td>\n",
       "      <td>800</td>\n",
       "    </tr>\n",
       "    <tr>\n",
       "      <th>4</th>\n",
       "      <td>50</td>\n",
       "      <td>1000</td>\n",
       "    </tr>\n",
       "  </tbody>\n",
       "</table>\n",
       "</div>"
      ],
      "text/plain": [
       "   feature1  feature2\n",
       "0        10       200\n",
       "1        20       400\n",
       "2        30       600\n",
       "3        40       800\n",
       "4        50      1000"
      ]
     },
     "execution_count": 3,
     "metadata": {},
     "output_type": "execute_result"
    }
   ],
   "source": [
    "df"
   ]
  },
  {
   "cell_type": "code",
   "execution_count": 4,
   "metadata": {},
   "outputs": [],
   "source": [
    "# Applying Min-Max Scaling\n",
    "scaler = MinMaxScaler()\n",
    "normalized_data = scaler.fit_transform(df)"
   ]
  },
  {
   "cell_type": "code",
   "execution_count": 5,
   "metadata": {},
   "outputs": [
    {
     "name": "stdout",
     "output_type": "stream",
     "text": [
      "   feature1  feature2\n",
      "0      0.00      0.00\n",
      "1      0.25      0.25\n",
      "2      0.50      0.50\n",
      "3      0.75      0.75\n",
      "4      1.00      1.00\n"
     ]
    }
   ],
   "source": [
    "# Creating a new DataFrame\n",
    "df_normalized = pd.DataFrame(normalized_data, columns=df.columns)\n",
    "print(df_normalized)"
   ]
  },
  {
   "cell_type": "markdown",
   "metadata": {},
   "source": [
    "## 📌 Standardization (Z-Score Scaling)"
   ]
  },
  {
   "attachments": {
    "image.png": {
     "image/png": "[encoded data removed]"
    }
   },
   "cell_type": "markdown",
   "metadata": {},
   "source": [
    "![image.png](attachment:image.png)"
   ]
  },
  {
   "cell_type": "code",
   "execution_count": 6,
   "metadata": {},
   "outputs": [],
   "source": [
    "from sklearn.preprocessing import StandardScaler"
   ]
  },
  {
   "cell_type": "code",
   "execution_count": 7,
   "metadata": {},
   "outputs": [],
   "source": [
    "# Applying Standardization\n",
    "scaler = StandardScaler()\n",
    "standardized_data = scaler.fit_transform(df)\n"
   ]
  },
  {
   "cell_type": "code",
   "execution_count": 8,
   "metadata": {},
   "outputs": [
    {
     "name": "stdout",
     "output_type": "stream",
     "text": [
      "   feature1  feature2\n",
      "0 -1.414214 -1.414214\n",
      "1 -0.707107 -0.707107\n",
      "2  0.000000  0.000000\n",
      "3  0.707107  0.707107\n",
      "4  1.414214  1.414214\n"
     ]
    }
   ],
   "source": [
    "# Creating a new DataFrame\n",
    "df_standardized = pd.DataFrame(standardized_data, columns=df.columns)\n",
    "print(df_standardized)"
   ]
  }
 ],
 "metadata": {
  "kernelspec": {
   "display_name": "Python 3",
   "language": "python",
   "name": "python3"
  },
  "language_info": {
   "codemirror_mode": {
    "name": "ipython",
    "version": 3
   },
   "file_extension": ".py",
   "mimetype": "text/x-python",
   "name": "python",
   "nbconvert_exporter": "python",
   "pygments_lexer": "ipython3",
   "version": "3.13.1"
  }
 },
 "nbformat": 4,
 "nbformat_minor": 2
}

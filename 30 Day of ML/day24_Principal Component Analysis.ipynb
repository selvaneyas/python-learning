{
 "cells": [
  {
   "cell_type": "markdown",
   "metadata": {},
   "source": [
    "# 💻 𝐃𝐚𝐲 𝟐𝟒: 𝐏𝐫𝐢𝐧𝐜𝐢𝐩𝐚𝐥 𝐂𝐨𝐦𝐩𝐨𝐧𝐞𝐧𝐭 𝐀𝐧𝐚𝐥𝐲𝐬𝐢𝐬 (𝐏𝐂𝐀) – 𝐃𝐢𝐦𝐞𝐧𝐬𝐢𝐨𝐧𝐚𝐥𝐢𝐭𝐲 𝐑𝐞𝐝𝐮𝐜𝐭𝐢𝐨𝐧 | 𝟑𝟎-𝐃𝐚𝐲 𝐌𝐋 𝐂𝐡𝐚𝐥𝐥𝐞𝐧𝐠𝐞\n",
    "\n",
    "\n",
    "\n",
    "## 🔎 𝐖𝐡𝐚𝐭 𝐢𝐬 𝐏𝐂𝐀?\n",
    "\n",
    " Principal Component Analysis (PCA) is a powerful dimensionality reduction technique used to transform high-dimensional data into a lower-dimensional space while preserving maximum variance.\n",
    "\n",
    "\n",
    "\n",
    "## 🚀 𝐖𝐡𝐲 𝐏𝐂𝐀?\n",
    "\n",
    " ✅ Reduces computational cost for machine learning models.\n",
    "\n",
    " ✅ Helps in visualizing high-dimensional data.\n",
    "\n",
    " ✅ Removes correlation and redundancy in features.\n",
    "\n",
    " ✅ Enhances model performance by avoiding the curse of dimensionality.\n",
    "\n",
    "\n",
    "\n",
    "## 📊 𝐇𝐨𝐰 𝐏𝐂𝐀 𝐖𝐨𝐫𝐤𝐬?\n",
    "\n",
    " 1️⃣ Standardize the data.\n",
    "\n",
    " 2️⃣ Compute the covariance matrix.\n",
    "\n",
    " 3️⃣ Find the eigenvalues & eigenvectors.\n",
    "\n",
    " 4️⃣ Select top principal components based on explained variance.\n",
    "\n",
    " 5️⃣ Project data onto the new feature space.\n",
    "\n",
    "\n",
    "\n",
    "## 🔍 𝐊𝐞𝐲 𝐓𝐚𝐤𝐞𝐚𝐰𝐚𝐲𝐬:\n",
    "\n",
    " 🔹 Dimensionality Reduction without significant data loss.\n",
    "\n",
    " 🔹 Helps in feature selection & noise reduction.\n",
    "\n",
    " 🔹 Essential for high-dimensional datasets like images, finance, and genomics.\n",
    "\n",
    "\n",
    "\n"
   ]
  },
  {
   "cell_type": "code",
   "execution_count": 2,
   "metadata": {},
   "outputs": [],
   "source": [
    "import numpy as np  \n",
    "import matplotlib.pyplot as plt  \n",
    "import seaborn as sns  \n",
    "from sklearn.decomposition import PCA  \n",
    "from sklearn.datasets import load_digits  \n",
    "from sklearn.preprocessing import StandardScaler"
   ]
  },
  {
   "cell_type": "code",
   "execution_count": 3,
   "metadata": {},
   "outputs": [],
   "source": [
    "# Load dataset (Handwritten Digits)\n",
    "digits = load_digits()  \n",
    "X, y = digits.data, digits.target"
   ]
  },
  {
   "cell_type": "code",
   "execution_count": null,
   "metadata": {},
   "outputs": [],
   "source": [
    "# Standardize the data  \n",
    "scaler = StandardScaler()  \n",
    "X_scaled = scaler.fit_transform(X) "
   ]
  }
 ],
 "metadata": {
  "kernelspec": {
   "display_name": "Python 3",
   "language": "python",
   "name": "python3"
  },
  "language_info": {
   "codemirror_mode": {
    "name": "ipython",
    "version": 3
   },
   "file_extension": ".py",
   "mimetype": "text/x-python",
   "name": "python",
   "nbconvert_exporter": "python",
   "pygments_lexer": "ipython3",
   "version": "3.13.1"
  }
 },
 "nbformat": 4,
 "nbformat_minor": 2
}

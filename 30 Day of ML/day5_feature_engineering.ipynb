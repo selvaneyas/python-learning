{
 "cells": [
  {
   "cell_type": "markdown",
   "metadata": {
    "vscode": {
     "languageId": "plaintext"
    }
   },
   "source": [
    "# 📌 Day 5: Feature Engineering in Machine Learning  \n",
    "\n",
    "## Why is Feature Engineering Important?  \n",
    "Feature Engineering transforms raw data into meaningful inputs for ML models.  \n",
    "\n",
    "## Key Techniques Covered  \n",
    "✅ Handling Missing Values (`SimpleImputer`)  \n",
    "✅ Encoding Categorical Variables (`OneHotEncoder`)  \n",
    "✅ Scaling & Normalization (`StandardScaler`)  \n",
    "✅ Feature Selection (`SelectKBest`)  \n",
    "✅ Creating New Features (`pd.cut()`)\n"
   ]
  },
  {
   "cell_type": "markdown",
   "metadata": {},
   "source": [
    "## Key Techniques of Feature Engineering\n",
    "\n",
    "### 1️⃣ Handling Missing Data\n",
    "🔸 Fill missing values using mean, median, or mode\n",
    "\n",
    "🔸 Use SimpleImputer() from sklearn.impute\n",
    "\n",
    "### 2️⃣ Encoding Categorical Variables\n",
    "🔸 Convert text labels to numbers using One-Hot Encoding (OHE) or Label Encoding\n",
    "\n",
    "### 3️⃣ Scaling & Normalization\n",
    "🔸 Standardize data to make features uniform\n",
    "\n",
    "🔸 Use StandardScaler() or MinMaxScaler()\n",
    "\n",
    "### 4️⃣ Feature Selection\n",
    "🔸 Remove low variance features\n",
    "\n",
    "🔸 Use correlation matrix or SelectKBest()\n",
    "\n",
    "### 5️⃣ Creating New Features\n",
    "🔸 Combine existing columns to create new insights\n",
    "\n",
    "🔸 Example: Creating Age Groups"
   ]
  },
  {
   "cell_type": "code",
   "execution_count": 1,
   "metadata": {},
   "outputs": [],
   "source": [
    "# Importing Libraries\n",
    "\n",
    "import pandas as pd\n",
    "import numpy as np\n",
    "\n",
    "from sklearn.impute import SimpleImputer\n",
    "from sklearn.preprocessing import OneHotEncoder, StandardScaler\n",
    "from sklearn.feature_selection import SelectKBest, f_classif"
   ]
  },
  {
   "cell_type": "code",
   "execution_count": 2,
   "metadata": {},
   "outputs": [],
   "source": [
    "# Sample dataset\n",
    "data = {'age': [25, np.nan, 35, 45, 18, np.nan, 60], \n",
    "        'gender': ['Male', 'Female', 'Female', 'Male', 'Female', 'Male', 'Female'],\n",
    "        'salary': [50000, 60000, 55000, 70000, 45000, 75000, 80000]}\n",
    "\n",
    "df = pd.DataFrame(data)"
   ]
  },
  {
   "cell_type": "code",
   "execution_count": 3,
   "metadata": {},
   "outputs": [
    {
     "data": {
      "application/vnd.microsoft.datawrangler.viewer.v0+json": {
       "columns": [
        {
         "name": "index",
         "rawType": "int64",
         "type": "integer"
        },
        {
         "name": "age",
         "rawType": "float64",
         "type": "float"
        },
        {
         "name": "gender",
         "rawType": "object",
         "type": "string"
        },
        {
         "name": "salary",
         "rawType": "int64",
         "type": "integer"
        }
       ],
       "conversionMethod": "pd.DataFrame",
       "ref": "f07386d8-9657-4e2b-bdee-059d4726cf05",
       "rows": [
        [
         "0",
         "25.0",
         "Male",
         "50000"
        ],
        [
         "1",
         null,
         "Female",
         "60000"
        ],
        [
         "2",
         "35.0",
         "Female",
         "55000"
        ],
        [
         "3",
         "45.0",
         "Male",
         "70000"
        ],
        [
         "4",
         "18.0",
         "Female",
         "45000"
        ],
        [
         "5",
         null,
         "Male",
         "75000"
        ],
        [
         "6",
         "60.0",
         "Female",
         "80000"
        ]
       ],
       "shape": {
        "columns": 3,
        "rows": 7
       }
      },
      "text/html": [
       "<div>\n",
       "<style scoped>\n",
       "    .dataframe tbody tr th:only-of-type {\n",
       "        vertical-align: middle;\n",
       "    }\n",
       "\n",
       "    .dataframe tbody tr th {\n",
       "        vertical-align: top;\n",
       "    }\n",
       "\n",
       "    .dataframe thead th {\n",
       "        text-align: right;\n",
       "    }\n",
       "</style>\n",
       "<table border=\"1\" class=\"dataframe\">\n",
       "  <thead>\n",
       "    <tr style=\"text-align: right;\">\n",
       "      <th></th>\n",
       "      <th>age</th>\n",
       "      <th>gender</th>\n",
       "      <th>salary</th>\n",
       "    </tr>\n",
       "  </thead>\n",
       "  <tbody>\n",
       "    <tr>\n",
       "      <th>0</th>\n",
       "      <td>25.0</td>\n",
       "      <td>Male</td>\n",
       "      <td>50000</td>\n",
       "    </tr>\n",
       "    <tr>\n",
       "      <th>1</th>\n",
       "      <td>NaN</td>\n",
       "      <td>Female</td>\n",
       "      <td>60000</td>\n",
       "    </tr>\n",
       "    <tr>\n",
       "      <th>2</th>\n",
       "      <td>35.0</td>\n",
       "      <td>Female</td>\n",
       "      <td>55000</td>\n",
       "    </tr>\n",
       "    <tr>\n",
       "      <th>3</th>\n",
       "      <td>45.0</td>\n",
       "      <td>Male</td>\n",
       "      <td>70000</td>\n",
       "    </tr>\n",
       "    <tr>\n",
       "      <th>4</th>\n",
       "      <td>18.0</td>\n",
       "      <td>Female</td>\n",
       "      <td>45000</td>\n",
       "    </tr>\n",
       "    <tr>\n",
       "      <th>5</th>\n",
       "      <td>NaN</td>\n",
       "      <td>Male</td>\n",
       "      <td>75000</td>\n",
       "    </tr>\n",
       "    <tr>\n",
       "      <th>6</th>\n",
       "      <td>60.0</td>\n",
       "      <td>Female</td>\n",
       "      <td>80000</td>\n",
       "    </tr>\n",
       "  </tbody>\n",
       "</table>\n",
       "</div>"
      ],
      "text/plain": [
       "    age  gender  salary\n",
       "0  25.0    Male   50000\n",
       "1   NaN  Female   60000\n",
       "2  35.0  Female   55000\n",
       "3  45.0    Male   70000\n",
       "4  18.0  Female   45000\n",
       "5   NaN    Male   75000\n",
       "6  60.0  Female   80000"
      ]
     },
     "execution_count": 3,
     "metadata": {},
     "output_type": "execute_result"
    }
   ],
   "source": [
    "df"
   ]
  },
  {
   "cell_type": "markdown",
   "metadata": {},
   "source": [
    "# 1️⃣ Handling Missing Values"
   ]
  },
  {
   "cell_type": "code",
   "execution_count": 4,
   "metadata": {},
   "outputs": [],
   "source": [
    "imputer = SimpleImputer(strategy='median')\n",
    "df[['age']] = imputer.fit_transform(df[['age']])"
   ]
  },
  {
   "cell_type": "code",
   "execution_count": 5,
   "metadata": {},
   "outputs": [
    {
     "name": "stdout",
     "output_type": "stream",
     "text": [
      "    age  gender  salary\n",
      "0  25.0    Male   50000\n",
      "1  35.0  Female   60000\n",
      "2  35.0  Female   55000\n",
      "3  45.0    Male   70000\n",
      "4  18.0  Female   45000\n",
      "5  35.0    Male   75000\n",
      "6  60.0  Female   80000\n"
     ]
    }
   ],
   "source": [
    "print(df)"
   ]
  },
  {
   "cell_type": "markdown",
   "metadata": {},
   "source": [
    "# 2️⃣ Encoding Categorical Variables"
   ]
  },
  {
   "cell_type": "code",
   "execution_count": 6,
   "metadata": {},
   "outputs": [],
   "source": [
    "encoder = OneHotEncoder(sparse_output=False, drop='first')\n",
    "encoded_gender = encoder.fit_transform(df[['gender']])\n",
    "\n",
    "df['Male'] = encoded_gender[:, 0]"
   ]
  },
  {
   "cell_type": "code",
   "execution_count": 18,
   "metadata": {},
   "outputs": [
    {
     "name": "stdout",
     "output_type": "stream",
     "text": [
      "    age  gender  salary  Male\n",
      "0  25.0    Male   50000   1.0\n",
      "1  35.0  Female   60000   0.0\n",
      "2  35.0  Female   55000   0.0\n",
      "3  45.0    Male   70000   1.0\n",
      "4  18.0  Female   45000   0.0\n",
      "5  35.0    Male   75000   1.0\n",
      "6  60.0  Female   80000   0.0\n"
     ]
    }
   ],
   "source": [
    "print(df)"
   ]
  },
  {
   "cell_type": "markdown",
   "metadata": {},
   "source": [
    "# 3️⃣ Scaling & Normalization"
   ]
  },
  {
   "cell_type": "code",
   "execution_count": 19,
   "metadata": {},
   "outputs": [],
   "source": [
    "scaler = StandardScaler()\n",
    "\n",
    "df[ ['age', 'salary']] = scaler.fit_transform(df[['age', 'salary']])"
   ]
  },
  {
   "cell_type": "code",
   "execution_count": 20,
   "metadata": {},
   "outputs": [
    {
     "name": "stdout",
     "output_type": "stream",
     "text": [
      "        age  gender    salary  Male\n",
      "0 -0.886936    Male -0.994850   1.0\n",
      "1 -0.090968  Female -0.175562   0.0\n",
      "2 -0.090968  Female -0.585206   0.0\n",
      "3  0.705001    Male  0.643726   1.0\n",
      "4 -1.444115  Female -1.404494   0.0\n",
      "5 -0.090968    Male  1.053370   1.0\n",
      "6  1.898954  Female  1.463014   0.0\n"
     ]
    }
   ],
   "source": [
    "print(df)"
   ]
  },
  {
   "cell_type": "markdown",
   "metadata": {},
   "source": [
    "# 4️⃣ Feature Selection"
   ]
  },
  {
   "cell_type": "code",
   "execution_count": 21,
   "metadata": {},
   "outputs": [],
   "source": [
    "X = df[['age', 'salary', 'Male']]\n",
    "y = [0, 1, 0, 1, 0, 1, 0]  # Example target variable\n",
    "\n",
    "X_new = SelectKBest(score_func=f_classif, k=2).fit_transform(X, y)\n"
   ]
  },
  {
   "cell_type": "code",
   "execution_count": 23,
   "metadata": {},
   "outputs": [
    {
     "name": "stdout",
     "output_type": "stream",
     "text": [
      "        age    salary  Male\n",
      "0 -0.886936 -0.994850   1.0\n",
      "1 -0.090968 -0.175562   0.0\n",
      "2 -0.090968 -0.585206   0.0\n",
      "3  0.705001  0.643726   1.0\n",
      "4 -1.444115 -1.404494   0.0\n",
      "5 -0.090968  1.053370   1.0\n",
      "6  1.898954  1.463014   0.0 [0, 1, 0, 1, 0, 1, 0]\n",
      "[[-0.99484975  1.        ]\n",
      " [-0.17556172  0.        ]\n",
      " [-0.58520574  0.        ]\n",
      " [ 0.64372631  1.        ]\n",
      " [-1.40449377  0.        ]\n",
      " [ 1.05337032  1.        ]\n",
      " [ 1.46301434  0.        ]]\n"
     ]
    }
   ],
   "source": [
    "print(X,y)\n",
    "print(X_new)"
   ]
  },
  {
   "cell_type": "markdown",
   "metadata": {},
   "source": [
    "# 5️⃣ Creating New Features"
   ]
  },
  {
   "cell_type": "code",
   "execution_count": 24,
   "metadata": {},
   "outputs": [],
   "source": [
    "df['age_group'] = pd.cut(df['age'], bins=[-1, -0.5, 0.5, 1.5], labels=['Young', 'Adult', 'Senior'])"
   ]
  },
  {
   "cell_type": "code",
   "execution_count": 25,
   "metadata": {},
   "outputs": [
    {
     "name": "stdout",
     "output_type": "stream",
     "text": [
      "        age  gender    salary  Male age_group\n",
      "0 -0.886936    Male -0.994850   1.0     Young\n",
      "1 -0.090968  Female -0.175562   0.0     Adult\n",
      "2 -0.090968  Female -0.585206   0.0     Adult\n",
      "3  0.705001    Male  0.643726   1.0    Senior\n",
      "4 -1.444115  Female -1.404494   0.0       NaN\n",
      "5 -0.090968    Male  1.053370   1.0     Adult\n",
      "6  1.898954  Female  1.463014   0.0       NaN\n"
     ]
    }
   ],
   "source": [
    "print(df)"
   ]
  },
  {
   "cell_type": "code",
   "execution_count": null,
   "metadata": {},
   "outputs": [],
   "source": []
  }
 ],
 "metadata": {
  "kernelspec": {
   "display_name": "Python 3",
   "language": "python",
   "name": "python3"
  },
  "language_info": {
   "codemirror_mode": {
    "name": "ipython",
    "version": 3
   },
   "file_extension": ".py",
   "mimetype": "text/x-python",
   "name": "python",
   "nbconvert_exporter": "python",
   "pygments_lexer": "ipython3",
   "version": "3.13.1"
  }
 },
 "nbformat": 4,
 "nbformat_minor": 2
}

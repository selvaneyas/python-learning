{
 "cells": [
  {
   "cell_type": "markdown",
   "metadata": {},
   "source": [
    "## 🧪🤖 𝐃𝐚𝐲 𝟖: 𝐓𝐫𝐚𝐢𝐧-𝐓𝐞𝐬𝐭 𝐒𝐩𝐥𝐢𝐭𝐭𝐢𝐧𝐠 & 𝐂𝐫𝐨𝐬𝐬-𝐕𝐚𝐥𝐢𝐝𝐚𝐭𝐢𝐨𝐧 𝐢𝐧 𝐌𝐚𝐜𝐡𝐢𝐧𝐞 𝐋𝐞𝐚𝐫𝐧𝐢𝐧𝐠  | 𝟑𝟎-𝐃𝐚𝐲 𝐌𝐋 𝐂𝐡𝐚𝐥𝐥𝐞𝐧𝐠𝐞\n",
    "\n",
    "\n",
    "\n",
    "## 🔍 𝐖𝐡𝐲 𝐃𝐨 𝐖𝐞 𝐒𝐩𝐥𝐢𝐭 𝐃𝐚𝐭𝐚?\n",
    "\n",
    " ✅ Avoid Overfitting – Helps the model generalize to new data.\n",
    "\n",
    " ✅ Model Evaluation – Measures performance on unseen data before deployment.\n",
    "\n",
    " ✅ Better Decision-Making – Ensures the model isn't biased toward specific data patterns.\n",
    "\n",
    "\n",
    "\n",
    "## 🛠 𝐓𝐫𝐚𝐢𝐧-𝐓𝐞𝐬𝐭 𝐒𝐩𝐥𝐢𝐭 (𝐁𝐚𝐬𝐢𝐜 𝐌𝐞𝐭𝐡𝐨𝐝)\n",
    "\n",
    "The dataset is divided into two parts:\n",
    "\n",
    " 📌 Training Set (80%) – Used to train the model.\n",
    "\n",
    " 📌 Test Set (20%) – Used to evaluate model performance.\n",
    "\n",
    " 🔹 random_state=42 ensures reproducibility.\n",
    "\n",
    " 🔹 test_size=0.2 means 20% of the data is used for testing.\n",
    "\n",
    "\n",
    "\n",
    "## 🛠 𝐂𝐫𝐨𝐬𝐬-𝐕𝐚𝐥𝐢𝐝𝐚𝐭𝐢𝐨𝐧: 𝐀 𝐌𝐨𝐫𝐞 𝐑𝐞𝐥𝐢𝐚𝐛𝐥𝐞 𝐀𝐩𝐩𝐫𝐨𝐚𝐜𝐡\n",
    "\n",
    "Instead of a single train-test split, cross-validation divides the dataset into multiple folds, training the model on different subsets and evaluating on the remaining fold. This reduces bias and variance.\n",
    "\n",
    "\n",
    "\n",
    "### 🔄 𝑲-𝑭𝒐𝒍𝒅 𝑪𝒓𝒐𝒔𝒔-𝑽𝒂𝒍𝒊𝒅𝒂𝒕𝒊𝒐𝒏\n",
    "\n",
    "K-Fold CV splits the dataset into K equal parts (e.g., 5 or 10).\n",
    "\n",
    "The model is trained K times, with a different fold used for testing each time.\n",
    "\n",
    "\n",
    "\n",
    "The final performance is the average of all K evaluations.\n",
    "\n",
    " 🔹 KFold(n_splits=5): Splits the data into 5 folds.\n",
    "\n",
    " 🔹 shuffle=True: Randomizes the data before splitting.\n",
    "\n",
    "\n",
    "\n",
    "## 🚀𝐒𝐮𝐦𝐦𝐚𝐫𝐲 & 𝐊𝐞𝐲 𝐓𝐚𝐤𝐞𝐚𝐰𝐚𝐲𝐬\n",
    "\n",
    " ✅ Train-test split is essential for model evaluation.\n",
    "\n",
    " ✅ Cross-validation improves reliability by testing on multiple subsets.\n",
    "\n",
    " ✅ K-Fold CV (K=5 or 10) is commonly used for robust evaluation."
   ]
  },
  {
   "cell_type": "markdown",
   "metadata": {},
   "source": [
    "## 1. Train-Test Split (Basic Method)"
   ]
  },
  {
   "cell_type": "code",
   "execution_count": 1,
   "metadata": {},
   "outputs": [],
   "source": [
    "import pandas as pd\n",
    "import numpy as np\n",
    "\n",
    "from sklearn.model_selection import train_test_split"
   ]
  },
  {
   "cell_type": "code",
   "execution_count": 2,
   "metadata": {},
   "outputs": [],
   "source": [
    "# Sample dataset\n",
    "\n",
    "data = {\n",
    "    'feature1': np.random.rand(100),\n",
    "    'feature2': np.random.rand(100),\n",
    "    'target': np.random.randint(0, 2, 100)  # Binary classification\n",
    "}\n",
    "\n",
    "df = pd.DataFrame(data)"
   ]
  },
  {
   "cell_type": "code",
   "execution_count": 3,
   "metadata": {},
   "outputs": [
    {
     "data": {
      "application/vnd.microsoft.datawrangler.viewer.v0+json": {
       "columns": [
        {
         "name": "index",
         "rawType": "int64",
         "type": "integer"
        },
        {
         "name": "feature1",
         "rawType": "float64",
         "type": "float"
        },
        {
         "name": "feature2",
         "rawType": "float64",
         "type": "float"
        },
        {
         "name": "target",
         "rawType": "int32",
         "type": "integer"
        }
       ],
       "conversionMethod": "pd.DataFrame",
       "ref": "217c5ffa-86d0-4fe2-9ddf-aed60fa8cbe2",
       "rows": [
        [
         "0",
         "0.7558847585992959",
         "0.41150848071201385",
         "1"
        ],
        [
         "1",
         "0.5730100054454991",
         "0.9542000796035437",
         "0"
        ],
        [
         "2",
         "0.8373936323143848",
         "0.04363228245544526",
         "1"
        ],
        [
         "3",
         "0.8753016034530022",
         "0.7884721182604062",
         "1"
        ],
        [
         "4",
         "0.9911829982721866",
         "0.7914120176444148",
         "0"
        ],
        [
         "5",
         "0.5772207821554707",
         "0.4484699057735543",
         "1"
        ],
        [
         "6",
         "0.5304554039196233",
         "0.5398929049743093",
         "0"
        ],
        [
         "7",
         "0.014894082881401927",
         "0.3333530007593912",
         "0"
        ],
        [
         "8",
         "0.06143952870580416",
         "0.8474399080757982",
         "0"
        ],
        [
         "9",
         "0.9545215467344573",
         "0.11519997417718864",
         "0"
        ],
        [
         "10",
         "0.8791308933901334",
         "0.49489791273909167",
         "1"
        ],
        [
         "11",
         "0.7094990433128633",
         "0.6356063522192213",
         "1"
        ],
        [
         "12",
         "0.4040921852312358",
         "0.36493207326656496",
         "0"
        ],
        [
         "13",
         "0.6802297340156891",
         "0.35683859089001035",
         "0"
        ],
        [
         "14",
         "0.3630597352136403",
         "0.6658577658719459",
         "0"
        ],
        [
         "15",
         "0.8910828836923557",
         "0.12117741375050661",
         "0"
        ],
        [
         "16",
         "0.225855697509578",
         "0.7918536899616324",
         "0"
        ],
        [
         "17",
         "0.17378396029822907",
         "0.8992591330777024",
         "0"
        ],
        [
         "18",
         "0.6525620903659931",
         "0.5984388554521107",
         "1"
        ],
        [
         "19",
         "0.020374339868449054",
         "0.7487787912901637",
         "1"
        ],
        [
         "20",
         "0.03400107370816874",
         "0.9294327123366228",
         "1"
        ],
        [
         "21",
         "0.8566439117301937",
         "0.47943624953309616",
         "1"
        ],
        [
         "22",
         "0.9376384710467249",
         "0.9432497362199189",
         "1"
        ],
        [
         "23",
         "0.954018152256568",
         "0.9816916001705469",
         "1"
        ],
        [
         "24",
         "0.6041785588235176",
         "0.547545156308345",
         "0"
        ],
        [
         "25",
         "0.28600276440898076",
         "0.18337747281185224",
         "0"
        ],
        [
         "26",
         "0.5886539527266319",
         "0.36733007968216225",
         "1"
        ],
        [
         "27",
         "0.3972983197835862",
         "0.4691615466586826",
         "1"
        ],
        [
         "28",
         "0.49028593472647664",
         "0.11570337264490937",
         "1"
        ],
        [
         "29",
         "0.7890003470736309",
         "0.6174248592142748",
         "0"
        ],
        [
         "30",
         "0.1681499953978084",
         "0.10109591999650691",
         "1"
        ],
        [
         "31",
         "0.8274802482719907",
         "0.12820418899969033",
         "0"
        ],
        [
         "32",
         "0.4842468384109385",
         "0.5105766218440482",
         "0"
        ],
        [
         "33",
         "0.29749977552668116",
         "0.3507998495457445",
         "0"
        ],
        [
         "34",
         "0.5237023338817244",
         "0.45314718552882405",
         "1"
        ],
        [
         "35",
         "0.2814462860850492",
         "0.21279674979037455",
         "1"
        ],
        [
         "36",
         "0.5026304588141068",
         "0.7817393878742744",
         "0"
        ],
        [
         "37",
         "0.9133878595250251",
         "0.1797007489353477",
         "1"
        ],
        [
         "38",
         "0.18905490164190275",
         "0.6234681797120825",
         "0"
        ],
        [
         "39",
         "0.7545942978380987",
         "0.47645064677692883",
         "1"
        ],
        [
         "40",
         "0.9296157468038558",
         "0.6778130431066283",
         "1"
        ],
        [
         "41",
         "0.5781830378423505",
         "0.1770851391227627",
         "1"
        ],
        [
         "42",
         "0.9931970929309515",
         "0.6181205102097802",
         "1"
        ],
        [
         "43",
         "0.4483269862913333",
         "0.8243095903709313",
         "1"
        ],
        [
         "44",
         "0.6543951513712291",
         "0.7470753246585433",
         "0"
        ],
        [
         "45",
         "0.2546708804337646",
         "0.7259567274497781",
         "0"
        ],
        [
         "46",
         "0.49530851114982233",
         "0.09877125618362836",
         "1"
        ],
        [
         "47",
         "0.2312856655814619",
         "0.9252891776363912",
         "1"
        ],
        [
         "48",
         "0.7245370787555347",
         "0.9384238627500311",
         "1"
        ],
        [
         "49",
         "0.5011214533031275",
         "0.597079331099456",
         "1"
        ]
       ],
       "shape": {
        "columns": 3,
        "rows": 100
       }
      },
      "text/html": [
       "<div>\n",
       "<style scoped>\n",
       "    .dataframe tbody tr th:only-of-type {\n",
       "        vertical-align: middle;\n",
       "    }\n",
       "\n",
       "    .dataframe tbody tr th {\n",
       "        vertical-align: top;\n",
       "    }\n",
       "\n",
       "    .dataframe thead th {\n",
       "        text-align: right;\n",
       "    }\n",
       "</style>\n",
       "<table border=\"1\" class=\"dataframe\">\n",
       "  <thead>\n",
       "    <tr style=\"text-align: right;\">\n",
       "      <th></th>\n",
       "      <th>feature1</th>\n",
       "      <th>feature2</th>\n",
       "      <th>target</th>\n",
       "    </tr>\n",
       "  </thead>\n",
       "  <tbody>\n",
       "    <tr>\n",
       "      <th>0</th>\n",
       "      <td>0.755885</td>\n",
       "      <td>0.411508</td>\n",
       "      <td>1</td>\n",
       "    </tr>\n",
       "    <tr>\n",
       "      <th>1</th>\n",
       "      <td>0.573010</td>\n",
       "      <td>0.954200</td>\n",
       "      <td>0</td>\n",
       "    </tr>\n",
       "    <tr>\n",
       "      <th>2</th>\n",
       "      <td>0.837394</td>\n",
       "      <td>0.043632</td>\n",
       "      <td>1</td>\n",
       "    </tr>\n",
       "    <tr>\n",
       "      <th>3</th>\n",
       "      <td>0.875302</td>\n",
       "      <td>0.788472</td>\n",
       "      <td>1</td>\n",
       "    </tr>\n",
       "    <tr>\n",
       "      <th>4</th>\n",
       "      <td>0.991183</td>\n",
       "      <td>0.791412</td>\n",
       "      <td>0</td>\n",
       "    </tr>\n",
       "    <tr>\n",
       "      <th>...</th>\n",
       "      <td>...</td>\n",
       "      <td>...</td>\n",
       "      <td>...</td>\n",
       "    </tr>\n",
       "    <tr>\n",
       "      <th>95</th>\n",
       "      <td>0.312732</td>\n",
       "      <td>0.930435</td>\n",
       "      <td>0</td>\n",
       "    </tr>\n",
       "    <tr>\n",
       "      <th>96</th>\n",
       "      <td>0.641044</td>\n",
       "      <td>0.076841</td>\n",
       "      <td>1</td>\n",
       "    </tr>\n",
       "    <tr>\n",
       "      <th>97</th>\n",
       "      <td>0.446246</td>\n",
       "      <td>0.275057</td>\n",
       "      <td>1</td>\n",
       "    </tr>\n",
       "    <tr>\n",
       "      <th>98</th>\n",
       "      <td>0.039817</td>\n",
       "      <td>0.058082</td>\n",
       "      <td>1</td>\n",
       "    </tr>\n",
       "    <tr>\n",
       "      <th>99</th>\n",
       "      <td>0.440303</td>\n",
       "      <td>0.178865</td>\n",
       "      <td>1</td>\n",
       "    </tr>\n",
       "  </tbody>\n",
       "</table>\n",
       "<p>100 rows × 3 columns</p>\n",
       "</div>"
      ],
      "text/plain": [
       "    feature1  feature2  target\n",
       "0   0.755885  0.411508       1\n",
       "1   0.573010  0.954200       0\n",
       "2   0.837394  0.043632       1\n",
       "3   0.875302  0.788472       1\n",
       "4   0.991183  0.791412       0\n",
       "..       ...       ...     ...\n",
       "95  0.312732  0.930435       0\n",
       "96  0.641044  0.076841       1\n",
       "97  0.446246  0.275057       1\n",
       "98  0.039817  0.058082       1\n",
       "99  0.440303  0.178865       1\n",
       "\n",
       "[100 rows x 3 columns]"
      ]
     },
     "execution_count": 3,
     "metadata": {},
     "output_type": "execute_result"
    }
   ],
   "source": [
    "df"
   ]
  },
  {
   "cell_type": "code",
   "execution_count": 4,
   "metadata": {},
   "outputs": [],
   "source": [
    "# Splitting the dataset\n",
    "X = df[['feature1', 'feature2']]\n",
    "y = df['target']"
   ]
  },
  {
   "cell_type": "code",
   "execution_count": 5,
   "metadata": {},
   "outputs": [],
   "source": [
    "# Splitting data (80% train, 20% test)\n",
    "\n",
    "X_train, X_test, y_train, y_test = train_test_split(X, y, \n",
    "                                                    train_size=0.8, # 80% train \n",
    "                                                    test_size=0.2, # 20% test\n",
    "                                                    random_state=42)\n"
   ]
  },
  {
   "cell_type": "code",
   "execution_count": 6,
   "metadata": {},
   "outputs": [
    {
     "name": "stdout",
     "output_type": "stream",
     "text": [
      "Training set size: (80, 2), Test set size: (20, 2)\n"
     ]
    }
   ],
   "source": [
    "print(f\"Training set size: {X_train.shape}, Test set size: {X_test.shape}\")"
   ]
  },
  {
   "cell_type": "markdown",
   "metadata": {},
   "source": [
    "## 2. 𝐂𝐫𝐨𝐬𝐬-𝐕𝐚𝐥𝐢𝐝𝐚𝐭𝐢𝐨𝐧"
   ]
  },
  {
   "cell_type": "code",
   "execution_count": 7,
   "metadata": {},
   "outputs": [],
   "source": [
    "from sklearn.model_selection import cross_val_score\n",
    "from sklearn.ensemble import RandomForestClassifier"
   ]
  },
  {
   "cell_type": "code",
   "execution_count": 8,
   "metadata": {},
   "outputs": [],
   "source": [
    "# Sample Classifier model\n",
    "\n",
    "model = RandomForestClassifier(n_estimators=100, random_state=42)"
   ]
  },
  {
   "cell_type": "code",
   "execution_count": null,
   "metadata": {},
   "outputs": [],
   "source": []
  }
 ],
 "metadata": {
  "kernelspec": {
   "display_name": "Python 3",
   "language": "python",
   "name": "python3"
  },
  "language_info": {
   "codemirror_mode": {
    "name": "ipython",
    "version": 3
   },
   "file_extension": ".py",
   "mimetype": "text/x-python",
   "name": "python",
   "nbconvert_exporter": "python",
   "pygments_lexer": "ipython3",
   "version": "3.13.1"
  }
 },
 "nbformat": 4,
 "nbformat_minor": 2
}

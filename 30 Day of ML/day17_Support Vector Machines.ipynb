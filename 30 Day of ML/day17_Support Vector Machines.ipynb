{
 "cells": [
  {
   "cell_type": "markdown",
   "metadata": {},
   "source": [
    "## 📌 Day 17: Support Vector Machines (SVM) – Concept & Implementation\n",
    "\n",
    "Today, I explored one of the most powerful algorithms in Machine Learning — Support Vector Machines (SVM)! 🚀\n",
    "\n",
    "## 🔑 What is SVM?\n",
    "- SVM is a supervised learning algorithm used for classification and regression.\n",
    "- It works by finding the optimal hyperplane that separates data points of different classes with maximum margin.\n",
    "- SVM is highly effective in high-dimensional spaces and non-linear datasets when used with kernel tricks.\n",
    "\n",
    "## ✅ What I covered today:\n",
    "\n",
    "### 1️⃣ SVM Classification\n",
    "- Dataset: Iris Dataset 🌸\n",
    "- Used Linear & Non-linear (RBF Kernel) SVM for classification.\n",
    "- Visualized decision boundaries and support vectors.\n",
    "- Achieved high accuracy and interpreted results effectively.\n",
    "- 📊 Visualization of Decision Boundary helps in understanding the separation of classes.\n",
    "\n",
    "### 2️⃣ SVM Regression (SVR)\n",
    "- Dataset: California Housing Dataset 🏘️\n",
    "- Used Support Vector Regressor (SVR) to predict housing prices.\n",
    "- Evaluated using MSE, RMSE, and R² score for performance assessment.\n",
    "\n",
    "## 🔍 Key Takeaways:\n",
    "- SVM performs exceptionally well in complex datasets with proper tuning.\n",
    "- Kernel Trick (like RBF, Polynomial) enables SVM to handle non-linear classification problems.\n",
    "- Support Vectors play a crucial role in defining the hyperplane and margin.\n",
    "- SVR is an effective technique for regression problems where robustness to outliers is needed."
   ]
  },
  {
   "cell_type": "markdown",
   "metadata": {},
   "source": [
    "## 📄 svm classification\n",
    "\n",
    "## 🔷 Support Vector Classifier\n",
    "\n",
    "### ✅ Steps:\n",
    "1. Import Libraries\n",
    "2. Load Dataset (Iris dataset for multi-class classification)\n",
    "3. Data Splitting (Train & Test)\n",
    "4. Model Initialization & Training (SVC)\n",
    "5. Prediction & Evaluation (Accuracy, Classification Report)\n",
    "6. Visualization (Decision Boundary)"
   ]
  },
  {
   "cell_type": "code",
   "execution_count": null,
   "metadata": {},
   "outputs": [],
   "source": []
  },
  {
   "cell_type": "markdown",
   "metadata": {},
   "source": [
    "## 📄 svm_regression.ipynb\n",
    "## 🔷 Support Vector Regression Example\n",
    "### ✅ Steps:\n",
    "1. Import Libraries\n",
    "2. Load Dataset (California Housing / Synthetic Data)\n",
    "3. Data Splitting (Train & Test)\n",
    "4. Model Initialization & Training (SVR)\n",
    "5. Prediction & Evaluation (MSE, R² Score)\n",
    "6. Visualization (Optional)"
   ]
  },
  {
   "cell_type": "code",
   "execution_count": null,
   "metadata": {},
   "outputs": [],
   "source": []
  }
 ],
 "metadata": {
  "language_info": {
   "name": "python"
  }
 },
 "nbformat": 4,
 "nbformat_minor": 2
}

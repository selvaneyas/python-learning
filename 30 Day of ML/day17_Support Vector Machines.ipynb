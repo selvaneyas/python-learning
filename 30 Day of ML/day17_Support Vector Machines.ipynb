{
 "cells": [
  {
   "cell_type": "markdown",
   "metadata": {},
   "source": [
    "## 📌 Day 17: Support Vector Machines (SVM) – Concept & Implementation\n",
    "\n",
    "Today, I explored one of the most powerful algorithms in Machine Learning — Support Vector Machines (SVM)! 🚀\n",
    "\n",
    "## 🔑 What is SVM?\n",
    "- SVM is a supervised learning algorithm used for classification and regression.\n",
    "- It works by finding the optimal hyperplane that separates data points of different classes with maximum margin.\n",
    "- SVM is highly effective in high-dimensional spaces and non-linear datasets when used with kernel tricks.\n",
    "\n",
    "## ✅ What I covered today:\n",
    "\n",
    "### 1️⃣ SVM Classification\n",
    "- Dataset: Iris Dataset 🌸\n",
    "- Used Linear & Non-linear (RBF Kernel) SVM for classification.\n",
    "- Visualized decision boundaries and support vectors.\n",
    "- Achieved high accuracy and interpreted results effectively.\n",
    "- 📊 Visualization of Decision Boundary helps in understanding the separation of classes.\n",
    "\n",
    "### 2️⃣ SVM Regression (SVR)\n",
    "- Dataset: California Housing Dataset 🏘️\n",
    "- Used Support Vector Regressor (SVR) to predict housing prices.\n",
    "- Evaluated using MSE, RMSE, and R² score for performance assessment.\n",
    "\n",
    "## 🔍 Key Takeaways:\n",
    "- SVM performs exceptionally well in complex datasets with proper tuning.\n",
    "- Kernel Trick (like RBF, Polynomial) enables SVM to handle non-linear classification problems.\n",
    "- Support Vectors play a crucial role in defining the hyperplane and margin.\n",
    "- SVR is an effective technique for regression problems where robustness to outliers is needed."
   ]
  },
  {
   "cell_type": "code",
   "execution_count": null,
   "metadata": {},
   "outputs": [],
   "source": []
  }
 ],
 "metadata": {
  "language_info": {
   "name": "python"
  }
 },
 "nbformat": 4,
 "nbformat_minor": 2
}

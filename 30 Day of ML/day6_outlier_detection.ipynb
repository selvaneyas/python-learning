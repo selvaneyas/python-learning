{
 "cells": [
  {
   "cell_type": "markdown",
   "metadata": {
    "vscode": {
     "languageId": "plaintext"
    }
   },
   "source": [
    "# 📌 Day 6: Handling Outliers in Machine Learning (Python)\n",
    "\n",
    "Outliers are data points that significantly deviate from the rest of the dataset. They can distort machine learning models, reducing accuracy. Detecting and handling them properly improves model performance.\n",
    "\n",
    "## 📊 **Why Handle Outliers?**\n",
    "✅ Prevents biased model training  \n",
    "✅ Enhances data reliability  \n",
    "✅ Improves prediction accuracy  \n",
    "\n",
    "## 🔍 **Methods for Outlier Detection and Handling**\n",
    "### 1️⃣ **Visualization Techniques**\n",
    "- **Box Plot**: Helps visualize data distribution  \n",
    "- **Histogram**: Identifies skewness in data  \n",
    "- **Scatter Plot**: Detects anomalies  \n",
    "\n",
    "### 2️⃣ **Statistical Methods**\n",
    "- **Interquartile Range (IQR):** Removes values outside **1.5 times the IQR**  \n",
    "- **Z-Score:** Filters values with **z-score greater than 3**  \n",
    "\n",
    "### 3️⃣ **Machine Learning Methods**\n",
    "- **Isolation Forest**  \n",
    "- **DBSCAN (Density-Based Clustering)**  \n",
    "\n",
    "---"
   ]
  },
  {
   "cell_type": "code",
   "execution_count": 33,
   "metadata": {},
   "outputs": [],
   "source": [
    "# Importing Libraries\n",
    "\n",
    "import numpy as np\n",
    "import pandas as pd\n",
    "\n",
    "import matplotlib.pyplot as plt\n",
    "import seaborn as sns\n",
    "\n",
    "from scipy.stats import zscore"
   ]
  },
  {
   "cell_type": "markdown",
   "metadata": {},
   "source": [
    "## 📌 Generate Sample Data with Outliers"
   ]
  },
  {
   "cell_type": "code",
   "execution_count": 34,
   "metadata": {},
   "outputs": [],
   "source": [
    "np.random.seed(42)\n",
    "data = np.random.normal(50,15,100) # Normal Data\n",
    "outliers = np.array([10,100,105,3,150]) # Outlier values\n",
    "data_with_outliers = np.concatenate((data,outliers)) # Data with Outliers"
   ]
  },
  {
   "cell_type": "markdown",
   "metadata": {},
   "source": [
    "## 📌 Create DataFrame"
   ]
  },
  {
   "cell_type": "code",
   "execution_count": 35,
   "metadata": {},
   "outputs": [],
   "source": [
    "df = pd.DataFrame({'values': data_with_outliers})"
   ]
  },
  {
   "cell_type": "code",
   "execution_count": 36,
   "metadata": {},
   "outputs": [
    {
     "data": {
      "application/vnd.microsoft.datawrangler.viewer.v0+json": {
       "columns": [
        {
         "name": "index",
         "rawType": "int64",
         "type": "integer"
        },
        {
         "name": "values",
         "rawType": "float64",
         "type": "float"
        }
       ],
       "conversionMethod": "pd.DataFrame",
       "ref": "615a67f4-978e-48fb-a7c5-d6df190bfee5",
       "rows": [
        [
         "0",
         "57.450712295168486"
        ],
        [
         "1",
         "47.92603548243223"
        ],
        [
         "2",
         "59.715328071510385"
        ],
        [
         "3",
         "72.84544784612038"
        ],
        [
         "4",
         "46.48769937914996"
        ],
        [
         "5",
         "46.487945645762295"
        ],
        [
         "6",
         "73.68819223261087"
        ],
        [
         "7",
         "61.51152093729363"
        ],
        [
         "8",
         "42.95788421097572"
        ],
        [
         "9",
         "58.13840065378947"
        ],
        [
         "10",
         "43.04873460781307"
        ],
        [
         "11",
         "43.01405369644615"
        ],
        [
         "12",
         "53.629434073490515"
        ],
        [
         "13",
         "21.300796330133032"
        ],
        [
         "14",
         "24.126232512304508"
        ],
        [
         "15",
         "41.56568706138541"
        ],
        [
         "16",
         "34.80753319498364"
        ],
        [
         "17",
         "54.71370998892911"
        ],
        [
         "18",
         "36.37963886718184"
        ],
        [
         "19",
         "28.815444479970626"
        ],
        [
         "20",
         "71.98473153382331"
        ],
        [
         "21",
         "46.61335549270196"
        ],
        [
         "22",
         "51.012923070318855"
        ],
        [
         "23",
         "28.628777206798148"
        ],
        [
         "24",
         "41.834259132122256"
        ],
        [
         "25",
         "51.663838845647994"
        ],
        [
         "26",
         "32.73509633866546"
        ],
        [
         "27",
         "55.63547027518508"
        ],
        [
         "28",
         "40.99041965121793"
        ],
        [
         "29",
         "45.62459375310085"
        ],
        [
         "30",
         "40.97440081655905"
        ],
        [
         "31",
         "77.78417276763406"
        ],
        [
         "32",
         "49.79754162893099"
        ],
        [
         "33",
         "34.13433606566149"
        ],
        [
         "34",
         "62.338173681547836"
        ],
        [
         "35",
         "31.687345250434667"
        ],
        [
         "36",
         "53.132953925071334"
        ],
        [
         "37",
         "20.604948141803366"
        ],
        [
         "38",
         "30.077209266523543"
        ],
        [
         "39",
         "52.952918538036855"
        ],
        [
         "40",
         "61.07699869993115"
        ],
        [
         "41",
         "52.57052421784956"
        ],
        [
         "42",
         "48.265275764176394"
        ],
        [
         "43",
         "45.48344456616067"
        ],
        [
         "44",
         "27.822170144488588"
        ],
        [
         "45",
         "39.20233687407937"
        ],
        [
         "46",
         "43.09041843560319"
        ],
        [
         "47",
         "65.85683339328374"
        ],
        [
         "48",
         "55.15427434352692"
        ],
        [
         "49",
         "23.55439766955899"
        ]
       ],
       "shape": {
        "columns": 1,
        "rows": 105
       }
      },
      "text/html": [
       "<div>\n",
       "<style scoped>\n",
       "    .dataframe tbody tr th:only-of-type {\n",
       "        vertical-align: middle;\n",
       "    }\n",
       "\n",
       "    .dataframe tbody tr th {\n",
       "        vertical-align: top;\n",
       "    }\n",
       "\n",
       "    .dataframe thead th {\n",
       "        text-align: right;\n",
       "    }\n",
       "</style>\n",
       "<table border=\"1\" class=\"dataframe\">\n",
       "  <thead>\n",
       "    <tr style=\"text-align: right;\">\n",
       "      <th></th>\n",
       "      <th>values</th>\n",
       "    </tr>\n",
       "  </thead>\n",
       "  <tbody>\n",
       "    <tr>\n",
       "      <th>0</th>\n",
       "      <td>57.450712</td>\n",
       "    </tr>\n",
       "    <tr>\n",
       "      <th>1</th>\n",
       "      <td>47.926035</td>\n",
       "    </tr>\n",
       "    <tr>\n",
       "      <th>2</th>\n",
       "      <td>59.715328</td>\n",
       "    </tr>\n",
       "    <tr>\n",
       "      <th>3</th>\n",
       "      <td>72.845448</td>\n",
       "    </tr>\n",
       "    <tr>\n",
       "      <th>4</th>\n",
       "      <td>46.487699</td>\n",
       "    </tr>\n",
       "    <tr>\n",
       "      <th>...</th>\n",
       "      <td>...</td>\n",
       "    </tr>\n",
       "    <tr>\n",
       "      <th>100</th>\n",
       "      <td>10.000000</td>\n",
       "    </tr>\n",
       "    <tr>\n",
       "      <th>101</th>\n",
       "      <td>100.000000</td>\n",
       "    </tr>\n",
       "    <tr>\n",
       "      <th>102</th>\n",
       "      <td>105.000000</td>\n",
       "    </tr>\n",
       "    <tr>\n",
       "      <th>103</th>\n",
       "      <td>3.000000</td>\n",
       "    </tr>\n",
       "    <tr>\n",
       "      <th>104</th>\n",
       "      <td>150.000000</td>\n",
       "    </tr>\n",
       "  </tbody>\n",
       "</table>\n",
       "<p>105 rows × 1 columns</p>\n",
       "</div>"
      ],
      "text/plain": [
       "         values\n",
       "0     57.450712\n",
       "1     47.926035\n",
       "2     59.715328\n",
       "3     72.845448\n",
       "4     46.487699\n",
       "..          ...\n",
       "100   10.000000\n",
       "101  100.000000\n",
       "102  105.000000\n",
       "103    3.000000\n",
       "104  150.000000\n",
       "\n",
       "[105 rows x 1 columns]"
      ]
     },
     "execution_count": 36,
     "metadata": {},
     "output_type": "execute_result"
    }
   ],
   "source": [
    "df"
   ]
  },
  {
   "cell_type": "markdown",
   "metadata": {},
   "source": [
    "## 📊 Visualizing Outliers using Boxplot"
   ]
  },
  {
   "cell_type": "code",
   "execution_count": 37,
   "metadata": {},
   "outputs": [
    {
     "data": {
      "image/png": "[encoded data removed]",
      "text/plain": [
       "<Figure size 800x500 with 1 Axes>"
      ]
     },
     "metadata": {},
     "output_type": "display_data"
    }
   ],
   "source": [
    "# 📊 Visualizing Outliers using Boxplot\n",
    "plt.figure(figsize=(8, 5))\n",
    "\n",
    "sns.boxplot(x=df['values'])\n",
    "plt.title(\"Box Plot - Outliers Detection\")\n",
    "plt.savefig(\"outlier_results.png\")  # Save boxplot image\n",
    "plt.show()\n"
   ]
  },
  {
   "cell_type": "markdown",
   "metadata": {},
   "source": [
    "## 📌 Method 1: Detecting & Removing Outliers using IQR Method"
   ]
  },
  {
   "cell_type": "code",
   "execution_count": 38,
   "metadata": {},
   "outputs": [],
   "source": [
    "# 📌 Method 1: Detecting & Removing Outliers using IQR Method\n",
    "Q1 = df['values'].quantile(0.25)\n",
    "Q3 = df['values'].quantile(0.75)\n",
    "IQR = Q3 - Q1"
   ]
  },
  {
   "cell_type": "code",
   "execution_count": 39,
   "metadata": {},
   "outputs": [],
   "source": [
    "lower_bound = Q1 - 1.5 * IQR\n",
    "upper_bound = Q3 + 1.5 * IQR"
   ]
  },
  {
   "cell_type": "code",
   "execution_count": 40,
   "metadata": {},
   "outputs": [],
   "source": [
    "df_iqr_filtered = df[(df['values'] >= lower_bound) & (df['values'] <= upper_bound)]"
   ]
  },
  {
   "cell_type": "code",
   "execution_count": 41,
   "metadata": {},
   "outputs": [
    {
     "data": {
      "application/vnd.microsoft.datawrangler.viewer.v0+json": {
       "columns": [
        {
         "name": "index",
         "rawType": "int64",
         "type": "integer"
        },
        {
         "name": "values",
         "rawType": "float64",
         "type": "float"
        }
       ],
       "conversionMethod": "pd.DataFrame",
       "ref": "575334cc-470e-42f5-bf69-040d1ca887a5",
       "rows": [
        [
         "0",
         "57.450712295168486"
        ],
        [
         "1",
         "47.92603548243223"
        ],
        [
         "2",
         "59.715328071510385"
        ],
        [
         "3",
         "72.84544784612038"
        ],
        [
         "4",
         "46.48769937914996"
        ],
        [
         "5",
         "46.487945645762295"
        ],
        [
         "6",
         "73.68819223261087"
        ],
        [
         "7",
         "61.51152093729363"
        ],
        [
         "8",
         "42.95788421097572"
        ],
        [
         "9",
         "58.13840065378947"
        ],
        [
         "10",
         "43.04873460781307"
        ],
        [
         "11",
         "43.01405369644615"
        ],
        [
         "12",
         "53.629434073490515"
        ],
        [
         "13",
         "21.300796330133032"
        ],
        [
         "14",
         "24.126232512304508"
        ],
        [
         "15",
         "41.56568706138541"
        ],
        [
         "16",
         "34.80753319498364"
        ],
        [
         "17",
         "54.71370998892911"
        ],
        [
         "18",
         "36.37963886718184"
        ],
        [
         "19",
         "28.815444479970626"
        ],
        [
         "20",
         "71.98473153382331"
        ],
        [
         "21",
         "46.61335549270196"
        ],
        [
         "22",
         "51.012923070318855"
        ],
        [
         "23",
         "28.628777206798148"
        ],
        [
         "24",
         "41.834259132122256"
        ],
        [
         "25",
         "51.663838845647994"
        ],
        [
         "26",
         "32.73509633866546"
        ],
        [
         "27",
         "55.63547027518508"
        ],
        [
         "28",
         "40.99041965121793"
        ],
        [
         "29",
         "45.62459375310085"
        ],
        [
         "30",
         "40.97440081655905"
        ],
        [
         "31",
         "77.78417276763406"
        ],
        [
         "32",
         "49.79754162893099"
        ],
        [
         "33",
         "34.13433606566149"
        ],
        [
         "34",
         "62.338173681547836"
        ],
        [
         "35",
         "31.687345250434667"
        ],
        [
         "36",
         "53.132953925071334"
        ],
        [
         "37",
         "20.604948141803366"
        ],
        [
         "38",
         "30.077209266523543"
        ],
        [
         "39",
         "52.952918538036855"
        ],
        [
         "40",
         "61.07699869993115"
        ],
        [
         "41",
         "52.57052421784956"
        ],
        [
         "42",
         "48.265275764176394"
        ],
        [
         "43",
         "45.48344456616067"
        ],
        [
         "44",
         "27.822170144488588"
        ],
        [
         "45",
         "39.20233687407937"
        ],
        [
         "46",
         "43.09041843560319"
        ],
        [
         "47",
         "65.85683339328374"
        ],
        [
         "48",
         "55.15427434352692"
        ],
        [
         "49",
         "23.55439766955899"
        ]
       ],
       "shape": {
        "columns": 1,
        "rows": 99
       }
      },
      "text/html": [
       "<div>\n",
       "<style scoped>\n",
       "    .dataframe tbody tr th:only-of-type {\n",
       "        vertical-align: middle;\n",
       "    }\n",
       "\n",
       "    .dataframe tbody tr th {\n",
       "        vertical-align: top;\n",
       "    }\n",
       "\n",
       "    .dataframe thead th {\n",
       "        text-align: right;\n",
       "    }\n",
       "</style>\n",
       "<table border=\"1\" class=\"dataframe\">\n",
       "  <thead>\n",
       "    <tr style=\"text-align: right;\">\n",
       "      <th></th>\n",
       "      <th>values</th>\n",
       "    </tr>\n",
       "  </thead>\n",
       "  <tbody>\n",
       "    <tr>\n",
       "      <th>0</th>\n",
       "      <td>57.450712</td>\n",
       "    </tr>\n",
       "    <tr>\n",
       "      <th>1</th>\n",
       "      <td>47.926035</td>\n",
       "    </tr>\n",
       "    <tr>\n",
       "      <th>2</th>\n",
       "      <td>59.715328</td>\n",
       "    </tr>\n",
       "    <tr>\n",
       "      <th>3</th>\n",
       "      <td>72.845448</td>\n",
       "    </tr>\n",
       "    <tr>\n",
       "      <th>4</th>\n",
       "      <td>46.487699</td>\n",
       "    </tr>\n",
       "    <tr>\n",
       "      <th>...</th>\n",
       "      <td>...</td>\n",
       "    </tr>\n",
       "    <tr>\n",
       "      <th>95</th>\n",
       "      <td>28.047276</td>\n",
       "    </tr>\n",
       "    <tr>\n",
       "      <th>96</th>\n",
       "      <td>54.441804</td>\n",
       "    </tr>\n",
       "    <tr>\n",
       "      <th>97</th>\n",
       "      <td>53.915829</td>\n",
       "    </tr>\n",
       "    <tr>\n",
       "      <th>98</th>\n",
       "      <td>50.076702</td>\n",
       "    </tr>\n",
       "    <tr>\n",
       "      <th>99</th>\n",
       "      <td>46.481193</td>\n",
       "    </tr>\n",
       "  </tbody>\n",
       "</table>\n",
       "<p>99 rows × 1 columns</p>\n",
       "</div>"
      ],
      "text/plain": [
       "       values\n",
       "0   57.450712\n",
       "1   47.926035\n",
       "2   59.715328\n",
       "3   72.845448\n",
       "4   46.487699\n",
       "..        ...\n",
       "95  28.047276\n",
       "96  54.441804\n",
       "97  53.915829\n",
       "98  50.076702\n",
       "99  46.481193\n",
       "\n",
       "[99 rows x 1 columns]"
      ]
     },
     "execution_count": 41,
     "metadata": {},
     "output_type": "execute_result"
    }
   ],
   "source": [
    "df_iqr_filtered"
   ]
  },
  {
   "cell_type": "markdown",
   "metadata": {},
   "source": [
    "## 📌 Method 2: Detecting & Removing Outliers using Z-Score"
   ]
  },
  {
   "cell_type": "code",
   "execution_count": 42,
   "metadata": {},
   "outputs": [],
   "source": [
    "df['z_score'] = zscore(df['values'])\n",
    "df_zscore_filtered = df[abs(df['z_score']) < 3].drop(columns=['z_score'])\n"
   ]
  },
  {
   "cell_type": "code",
   "execution_count": 43,
   "metadata": {},
   "outputs": [
    {
     "data": {
      "application/vnd.microsoft.datawrangler.viewer.v0+json": {
       "columns": [
        {
         "name": "index",
         "rawType": "int64",
         "type": "integer"
        },
        {
         "name": "values",
         "rawType": "float64",
         "type": "float"
        }
       ],
       "conversionMethod": "pd.DataFrame",
       "ref": "f96c2714-7f04-4240-9874-277c84f43e90",
       "rows": [
        [
         "0",
         "57.450712295168486"
        ],
        [
         "1",
         "47.92603548243223"
        ],
        [
         "2",
         "59.715328071510385"
        ],
        [
         "3",
         "72.84544784612038"
        ],
        [
         "4",
         "46.48769937914996"
        ],
        [
         "5",
         "46.487945645762295"
        ],
        [
         "6",
         "73.68819223261087"
        ],
        [
         "7",
         "61.51152093729363"
        ],
        [
         "8",
         "42.95788421097572"
        ],
        [
         "9",
         "58.13840065378947"
        ],
        [
         "10",
         "43.04873460781307"
        ],
        [
         "11",
         "43.01405369644615"
        ],
        [
         "12",
         "53.629434073490515"
        ],
        [
         "13",
         "21.300796330133032"
        ],
        [
         "14",
         "24.126232512304508"
        ],
        [
         "15",
         "41.56568706138541"
        ],
        [
         "16",
         "34.80753319498364"
        ],
        [
         "17",
         "54.71370998892911"
        ],
        [
         "18",
         "36.37963886718184"
        ],
        [
         "19",
         "28.815444479970626"
        ],
        [
         "20",
         "71.98473153382331"
        ],
        [
         "21",
         "46.61335549270196"
        ],
        [
         "22",
         "51.012923070318855"
        ],
        [
         "23",
         "28.628777206798148"
        ],
        [
         "24",
         "41.834259132122256"
        ],
        [
         "25",
         "51.663838845647994"
        ],
        [
         "26",
         "32.73509633866546"
        ],
        [
         "27",
         "55.63547027518508"
        ],
        [
         "28",
         "40.99041965121793"
        ],
        [
         "29",
         "45.62459375310085"
        ],
        [
         "30",
         "40.97440081655905"
        ],
        [
         "31",
         "77.78417276763406"
        ],
        [
         "32",
         "49.79754162893099"
        ],
        [
         "33",
         "34.13433606566149"
        ],
        [
         "34",
         "62.338173681547836"
        ],
        [
         "35",
         "31.687345250434667"
        ],
        [
         "36",
         "53.132953925071334"
        ],
        [
         "37",
         "20.604948141803366"
        ],
        [
         "38",
         "30.077209266523543"
        ],
        [
         "39",
         "52.952918538036855"
        ],
        [
         "40",
         "61.07699869993115"
        ],
        [
         "41",
         "52.57052421784956"
        ],
        [
         "42",
         "48.265275764176394"
        ],
        [
         "43",
         "45.48344456616067"
        ],
        [
         "44",
         "27.822170144488588"
        ],
        [
         "45",
         "39.20233687407937"
        ],
        [
         "46",
         "43.09041843560319"
        ],
        [
         "47",
         "65.85683339328374"
        ],
        [
         "48",
         "55.15427434352692"
        ],
        [
         "49",
         "23.55439766955899"
        ]
       ],
       "shape": {
        "columns": 1,
        "rows": 104
       }
      },
      "text/html": [
       "<div>\n",
       "<style scoped>\n",
       "    .dataframe tbody tr th:only-of-type {\n",
       "        vertical-align: middle;\n",
       "    }\n",
       "\n",
       "    .dataframe tbody tr th {\n",
       "        vertical-align: top;\n",
       "    }\n",
       "\n",
       "    .dataframe thead th {\n",
       "        text-align: right;\n",
       "    }\n",
       "</style>\n",
       "<table border=\"1\" class=\"dataframe\">\n",
       "  <thead>\n",
       "    <tr style=\"text-align: right;\">\n",
       "      <th></th>\n",
       "      <th>values</th>\n",
       "    </tr>\n",
       "  </thead>\n",
       "  <tbody>\n",
       "    <tr>\n",
       "      <th>0</th>\n",
       "      <td>57.450712</td>\n",
       "    </tr>\n",
       "    <tr>\n",
       "      <th>1</th>\n",
       "      <td>47.926035</td>\n",
       "    </tr>\n",
       "    <tr>\n",
       "      <th>2</th>\n",
       "      <td>59.715328</td>\n",
       "    </tr>\n",
       "    <tr>\n",
       "      <th>3</th>\n",
       "      <td>72.845448</td>\n",
       "    </tr>\n",
       "    <tr>\n",
       "      <th>4</th>\n",
       "      <td>46.487699</td>\n",
       "    </tr>\n",
       "    <tr>\n",
       "      <th>...</th>\n",
       "      <td>...</td>\n",
       "    </tr>\n",
       "    <tr>\n",
       "      <th>99</th>\n",
       "      <td>46.481193</td>\n",
       "    </tr>\n",
       "    <tr>\n",
       "      <th>100</th>\n",
       "      <td>10.000000</td>\n",
       "    </tr>\n",
       "    <tr>\n",
       "      <th>101</th>\n",
       "      <td>100.000000</td>\n",
       "    </tr>\n",
       "    <tr>\n",
       "      <th>102</th>\n",
       "      <td>105.000000</td>\n",
       "    </tr>\n",
       "    <tr>\n",
       "      <th>103</th>\n",
       "      <td>3.000000</td>\n",
       "    </tr>\n",
       "  </tbody>\n",
       "</table>\n",
       "<p>104 rows × 1 columns</p>\n",
       "</div>"
      ],
      "text/plain": [
       "         values\n",
       "0     57.450712\n",
       "1     47.926035\n",
       "2     59.715328\n",
       "3     72.845448\n",
       "4     46.487699\n",
       "..          ...\n",
       "99    46.481193\n",
       "100   10.000000\n",
       "101  100.000000\n",
       "102  105.000000\n",
       "103    3.000000\n",
       "\n",
       "[104 rows x 1 columns]"
      ]
     },
     "execution_count": 43,
     "metadata": {},
     "output_type": "execute_result"
    }
   ],
   "source": [
    "df_zscore_filtered"
   ]
  },
  {
   "cell_type": "markdown",
   "metadata": {},
   "source": [
    "## 📊 Compare Before & After Outlier Removal"
   ]
  },
  {
   "cell_type": "code",
   "execution_count": 44,
   "metadata": {},
   "outputs": [
    {
     "name": "stdout",
     "output_type": "stream",
     "text": [
      "Original Data Size: 105\n",
      "After IQR Filtering: 99\n",
      "After Z-Score Filtering: 104\n"
     ]
    }
   ],
   "source": [
    "# 📊 Compare Before & After Outlier Removal\n",
    "print(\"Original Data Size:\", df.shape[0])\n",
    "print(\"After IQR Filtering:\", df_iqr_filtered.shape[0])\n",
    "print(\"After Z-Score Filtering:\", df_zscore_filtered.shape[0])"
   ]
  },
  {
   "cell_type": "markdown",
   "metadata": {},
   "source": [
    "## 📊 Visualization After Removing Outliers"
   ]
  },
  {
   "cell_type": "code",
   "execution_count": 45,
   "metadata": {},
   "outputs": [
    {
     "data": {
      "image/png": "[encoded data removed]",
      "text/plain": [
       "<Figure size 800x500 with 1 Axes>"
      ]
     },
     "metadata": {},
     "output_type": "display_data"
    }
   ],
   "source": [
    "# 📊 Visualization After Removing Outliers\n",
    "\n",
    "plt.figure(figsize=(8, 5))\n",
    "sns.boxplot(x=df_iqr_filtered['values'])\n",
    "plt.title(\"Box Plot - After Outlier Removal (IQR)\")\n",
    "plt.savefig(\"outlier_results_filtered.png\")  # Save filtered boxplot image\n",
    "plt.show()"
   ]
  }
 ],
 "metadata": {
  "kernelspec": {
   "display_name": "Python 3",
   "language": "python",
   "name": "python3"
  },
  "language_info": {
   "codemirror_mode": {
    "name": "ipython",
    "version": 3
   },
   "file_extension": ".py",
   "mimetype": "text/x-python",
   "name": "python",
   "nbconvert_exporter": "python",
   "pygments_lexer": "ipython3",
   "version": "3.13.1"
  }
 },
 "nbformat": 4,
 "nbformat_minor": 2
}

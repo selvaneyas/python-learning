{
 "cells": [
  {
   "cell_type": "markdown",
   "metadata": {},
   "source": [
    "# **📌 Day 7: Handling Outliers – Treatment Methods in Machine Learning (Python)**\n",
    "\n",
    "Outliers can distort statistical measures and negatively impact machine learning models. Once detected (Day 6), the next step is handling them effectively.\n",
    "\n",
    "## **🔍 Why Handle Outliers?**\n",
    "\n",
    "✅ Prevents misleading insights\n",
    "\n",
    "✅ Enhances model stability\n",
    "\n",
    "✅ Reduces the risk of overfitting\n",
    "\n",
    "## **🛠️ Methods to Handle Outliers**\n",
    "\n",
    "1️⃣ *Capping (Winsorization)*\n",
    "\n",
    "Replaces extreme values with a specified percentile (e.g., 5th and 95th percentiles).\n",
    "Useful when outliers carry some meaningful information.\n",
    "\n",
    "2️⃣ *Transformation Techniques*\n",
    "\n",
    "- Log Transformation: Reduces skewness and minimizes outlier impact.\n",
    "- Box-Cox Transformation: Normalizes non-Gaussian distributed data.\n",
    "- Power Transformations: Stabilizes variance.\n",
    "\n",
    "3️⃣ *Removing Outliers*\n",
    "\n",
    "- Based on statistical measures (e.g., IQR, Z-score).\n",
    "- Ideal when outliers are due to data errors or extreme noise."
   ]
  },
  {
   "cell_type": "code",
   "execution_count": 2,
   "metadata": {},
   "outputs": [],
   "source": [
    "# Importing Libraries\n",
    "import numpy as np\n",
    "import pandas as pd\n",
    "import matplotlib.pyplot as plt\n",
    "\n",
    "from scipy.stats import zscore"
   ]
  },
  {
   "cell_type": "code",
   "execution_count": 3,
   "metadata": {},
   "outputs": [],
   "source": [
    "# Sample dataset\n",
    "np.random.seed(42)\n",
    "data = np.random.normal(loc=50, scale=10, size=100)  # Normal distribution\n",
    "data = np.append(data, [120, 130, 140])  # Adding outliers"
   ]
  },
  {
   "cell_type": "code",
   "execution_count": 4,
   "metadata": {},
   "outputs": [],
   "source": [
    "df = pd.DataFrame(data, columns=['Value'])"
   ]
  },
  {
   "cell_type": "code",
   "execution_count": 5,
   "metadata": {},
   "outputs": [
    {
     "name": "stdout",
     "output_type": "stream",
     "text": [
      "          Value\n",
      "0     54.967142\n",
      "1     48.617357\n",
      "2     56.476885\n",
      "3     65.230299\n",
      "4     47.658466\n",
      "..          ...\n",
      "98    50.051135\n",
      "99    47.654129\n",
      "100  120.000000\n",
      "101  130.000000\n",
      "102  140.000000\n",
      "\n",
      "[103 rows x 1 columns]\n"
     ]
    }
   ],
   "source": [
    "print(df)"
   ]
  },
  {
   "cell_type": "markdown",
   "metadata": {},
   "source": [
    "## Boxplot before handling outliers"
   ]
  },
  {
   "cell_type": "code",
   "execution_count": 6,
   "metadata": {},
   "outputs": [
    {
     "data": {
      "image/png": "[encoded data removed]",
      "text/plain": [
       "<Figure size 600x400 with 1 Axes>"
      ]
     },
     "metadata": {},
     "output_type": "display_data"
    }
   ],
   "source": [
    "# Boxplot before handling outliers\n",
    "\n",
    "plt.figure(figsize=(6, 4))\n",
    "plt.boxplot(df['Value'])\n",
    "plt.title(\"Box Plot - Before Outlier Handling\")\n",
    "plt.show()"
   ]
  },
  {
   "cell_type": "markdown",
   "metadata": {},
   "source": [
    "## 🛠️ **Method 1: Capping (Winsorization)**"
   ]
  },
  {
   "cell_type": "code",
   "execution_count": null,
   "metadata": {},
   "outputs": [],
   "source": [
    "lower_limit , upper_limit = np.percentile(df['Value'], [5,95])\n",
    "\n",
    "df['Capped'] = np.where( df['Value'] > upper_limit, upper_limit , np.where(df['Value'] < lower_limit, lower_limit , df['Value']) )"
   ]
  },
  {
   "cell_type": "code",
   "execution_count": 8,
   "metadata": {},
   "outputs": [
    {
     "data": {
      "application/vnd.microsoft.datawrangler.viewer.v0+json": {
       "columns": [
        {
         "name": "index",
         "rawType": "int64",
         "type": "integer"
        },
        {
         "name": "Value",
         "rawType": "float64",
         "type": "float"
        },
        {
         "name": "Capped",
         "rawType": "float64",
         "type": "float"
        }
       ],
       "conversionMethod": "pd.DataFrame",
       "ref": "a6ed12ab-4b39-457d-9e9d-b7d3be076c33",
       "rows": [
        [
         "0",
         "54.96714153011233",
         "54.96714153011233"
        ],
        [
         "1",
         "48.61735698828815",
         "48.61735698828815"
        ],
        [
         "2",
         "56.47688538100692",
         "56.47688538100692"
        ],
        [
         "3",
         "65.23029856408026",
         "65.23029856408026"
        ],
        [
         "4",
         "47.658466252766644",
         "47.658466252766644"
        ],
        [
         "5",
         "47.6586304305082",
         "47.6586304305082"
        ],
        [
         "6",
         "65.79212815507391",
         "65.61982946879203"
        ],
        [
         "7",
         "57.67434729152909",
         "57.67434729152909"
        ],
        [
         "8",
         "45.30525614065048",
         "45.30525614065048"
        ],
        [
         "9",
         "55.42560043585965",
         "55.42560043585965"
        ],
        [
         "10",
         "45.365823071875376",
         "45.365823071875376"
        ],
        [
         "11",
         "45.34270246429743",
         "45.34270246429743"
        ],
        [
         "12",
         "52.41962271566034",
         "52.41962271566034"
        ],
        [
         "13",
         "30.86719755342202",
         "32.99721751701528"
        ],
        [
         "14",
         "32.75082167486967",
         "32.99721751701528"
        ],
        [
         "15",
         "44.37712470759027",
         "44.37712470759027"
        ],
        [
         "16",
         "39.87168879665576",
         "39.87168879665576"
        ],
        [
         "17",
         "53.142473325952736",
         "53.142473325952736"
        ],
        [
         "18",
         "40.91975924478789",
         "40.91975924478789"
        ],
        [
         "19",
         "35.87696298664709",
         "35.87696298664709"
        ],
        [
         "20",
         "64.65648768921554",
         "64.65648768921554"
        ],
        [
         "21",
         "47.74223699513465",
         "47.74223699513465"
        ],
        [
         "22",
         "50.67528204687924",
         "50.67528204687924"
        ],
        [
         "23",
         "35.75251813786544",
         "35.75251813786544"
        ],
        [
         "24",
         "44.556172754748175",
         "44.556172754748175"
        ],
        [
         "25",
         "51.10922589709866",
         "51.10922589709866"
        ],
        [
         "26",
         "38.490064225776976",
         "38.490064225776976"
        ],
        [
         "27",
         "53.75698018345672",
         "53.75698018345672"
        ],
        [
         "28",
         "43.99361310081195",
         "43.99361310081195"
        ],
        [
         "29",
         "47.083062502067236",
         "47.083062502067236"
        ],
        [
         "30",
         "43.98293387770603",
         "43.98293387770603"
        ],
        [
         "31",
         "68.52278184508938",
         "65.61982946879203"
        ],
        [
         "32",
         "49.86502775262066",
         "49.86502775262066"
        ],
        [
         "33",
         "39.422890710440996",
         "39.422890710440996"
        ],
        [
         "34",
         "58.225449121031886",
         "58.225449121031886"
        ],
        [
         "35",
         "37.791563500289776",
         "37.791563500289776"
        ],
        [
         "36",
         "52.08863595004755",
         "52.08863595004755"
        ],
        [
         "37",
         "30.403298761202244",
         "32.99721751701528"
        ],
        [
         "38",
         "36.71813951101569",
         "36.71813951101569"
        ],
        [
         "39",
         "51.96861235869123",
         "51.96861235869123"
        ],
        [
         "40",
         "57.38466579995411",
         "57.38466579995411"
        ],
        [
         "41",
         "51.7136828118997",
         "51.7136828118997"
        ],
        [
         "42",
         "48.843517176117594",
         "48.843517176117594"
        ],
        [
         "43",
         "46.98896304410711",
         "46.98896304410711"
        ],
        [
         "44",
         "35.214780096325725",
         "35.214780096325725"
        ],
        [
         "45",
         "42.801557916052914",
         "42.801557916052914"
        ],
        [
         "46",
         "45.393612290402125",
         "45.393612290402125"
        ],
        [
         "47",
         "60.57122226218915",
         "60.57122226218915"
        ],
        [
         "48",
         "53.43618289568462",
         "53.43618289568462"
        ],
        [
         "49",
         "32.36959844637266",
         "32.99721751701528"
        ]
       ],
       "shape": {
        "columns": 2,
        "rows": 103
       }
      },
      "text/html": [
       "<div>\n",
       "<style scoped>\n",
       "    .dataframe tbody tr th:only-of-type {\n",
       "        vertical-align: middle;\n",
       "    }\n",
       "\n",
       "    .dataframe tbody tr th {\n",
       "        vertical-align: top;\n",
       "    }\n",
       "\n",
       "    .dataframe thead th {\n",
       "        text-align: right;\n",
       "    }\n",
       "</style>\n",
       "<table border=\"1\" class=\"dataframe\">\n",
       "  <thead>\n",
       "    <tr style=\"text-align: right;\">\n",
       "      <th></th>\n",
       "      <th>Value</th>\n",
       "      <th>Capped</th>\n",
       "    </tr>\n",
       "  </thead>\n",
       "  <tbody>\n",
       "    <tr>\n",
       "      <th>0</th>\n",
       "      <td>54.967142</td>\n",
       "      <td>54.967142</td>\n",
       "    </tr>\n",
       "    <tr>\n",
       "      <th>1</th>\n",
       "      <td>48.617357</td>\n",
       "      <td>48.617357</td>\n",
       "    </tr>\n",
       "    <tr>\n",
       "      <th>2</th>\n",
       "      <td>56.476885</td>\n",
       "      <td>56.476885</td>\n",
       "    </tr>\n",
       "    <tr>\n",
       "      <th>3</th>\n",
       "      <td>65.230299</td>\n",
       "      <td>65.230299</td>\n",
       "    </tr>\n",
       "    <tr>\n",
       "      <th>4</th>\n",
       "      <td>47.658466</td>\n",
       "      <td>47.658466</td>\n",
       "    </tr>\n",
       "    <tr>\n",
       "      <th>...</th>\n",
       "      <td>...</td>\n",
       "      <td>...</td>\n",
       "    </tr>\n",
       "    <tr>\n",
       "      <th>98</th>\n",
       "      <td>50.051135</td>\n",
       "      <td>50.051135</td>\n",
       "    </tr>\n",
       "    <tr>\n",
       "      <th>99</th>\n",
       "      <td>47.654129</td>\n",
       "      <td>47.654129</td>\n",
       "    </tr>\n",
       "    <tr>\n",
       "      <th>100</th>\n",
       "      <td>120.000000</td>\n",
       "      <td>65.619829</td>\n",
       "    </tr>\n",
       "    <tr>\n",
       "      <th>101</th>\n",
       "      <td>130.000000</td>\n",
       "      <td>65.619829</td>\n",
       "    </tr>\n",
       "    <tr>\n",
       "      <th>102</th>\n",
       "      <td>140.000000</td>\n",
       "      <td>65.619829</td>\n",
       "    </tr>\n",
       "  </tbody>\n",
       "</table>\n",
       "<p>103 rows × 2 columns</p>\n",
       "</div>"
      ],
      "text/plain": [
       "          Value     Capped\n",
       "0     54.967142  54.967142\n",
       "1     48.617357  48.617357\n",
       "2     56.476885  56.476885\n",
       "3     65.230299  65.230299\n",
       "4     47.658466  47.658466\n",
       "..          ...        ...\n",
       "98    50.051135  50.051135\n",
       "99    47.654129  47.654129\n",
       "100  120.000000  65.619829\n",
       "101  130.000000  65.619829\n",
       "102  140.000000  65.619829\n",
       "\n",
       "[103 rows x 2 columns]"
      ]
     },
     "execution_count": 8,
     "metadata": {},
     "output_type": "execute_result"
    }
   ],
   "source": [
    "df"
   ]
  },
  {
   "cell_type": "markdown",
   "metadata": {},
   "source": [
    "## 🛠️ **Method 2: Log Transformation**"
   ]
  },
  {
   "cell_type": "code",
   "execution_count": 9,
   "metadata": {},
   "outputs": [],
   "source": [
    "df['Log_Transformed'] = np.log(df['Value'] + 1)  # Adding 1 to avoid log(0)"
   ]
  },
  {
   "cell_type": "code",
   "execution_count": 10,
   "metadata": {},
   "outputs": [
    {
     "data": {
      "application/vnd.microsoft.datawrangler.viewer.v0+json": {
       "columns": [
        {
         "name": "index",
         "rawType": "int64",
         "type": "integer"
        },
        {
         "name": "Value",
         "rawType": "float64",
         "type": "float"
        },
        {
         "name": "Capped",
         "rawType": "float64",
         "type": "float"
        },
        {
         "name": "Log_Transformed",
         "rawType": "float64",
         "type": "float"
        }
       ],
       "conversionMethod": "pd.DataFrame",
       "ref": "d708460e-8be3-455e-ac52-da7e2a6c2cd7",
       "rows": [
        [
         "0",
         "54.96714153011233",
         "54.96714153011233",
         "4.024764760134226"
        ],
        [
         "1",
         "48.61735698828815",
         "48.61735698828815",
         "3.9043407117964155"
        ],
        [
         "2",
         "56.47688538100692",
         "56.47688538100692",
         "4.051382873608516"
        ],
        [
         "3",
         "65.23029856408026",
         "65.23029856408026",
         "4.193138040475256"
        ],
        [
         "4",
         "47.658466252766644",
         "47.658466252766644",
         "3.884825817186748"
        ],
        [
         "5",
         "47.6586304305082",
         "47.6586304305082",
         "3.884829191264832"
        ],
        [
         "6",
         "65.79212815507391",
         "65.61982946879203",
         "4.201585231608775"
        ],
        [
         "7",
         "57.67434729152909",
         "57.67434729152909",
         "4.072002617542774"
        ],
        [
         "8",
         "45.30525614065048",
         "45.30525614065048",
         "3.8352554782050428"
        ],
        [
         "9",
         "55.42560043585965",
         "55.42560043585965",
         "4.032922963955969"
        ],
        [
         "10",
         "45.365823071875376",
         "45.365823071875376",
         "3.836562616103152"
        ],
        [
         "11",
         "45.34270246429743",
         "45.34270246429743",
         "3.836063835480257"
        ],
        [
         "12",
         "52.41962271566034",
         "52.41962271566034",
         "3.9781781450522384"
        ],
        [
         "13",
         "30.86719755342202",
         "32.99721751701528",
         "3.4615771908766897"
        ],
        [
         "14",
         "32.75082167486967",
         "32.99721751701528",
         "3.519004762944246"
        ],
        [
         "15",
         "44.37712470759027",
         "44.37712470759027",
         "3.815008117000366"
        ],
        [
         "16",
         "39.87168879665576",
         "39.87168879665576",
         "3.710437617903203"
        ],
        [
         "17",
         "53.142473325952736",
         "53.142473325952736",
         "3.991618967035414"
        ],
        [
         "18",
         "40.91975924478789",
         "40.91975924478789",
         "3.735757296789899"
        ],
        [
         "19",
         "35.87696298664709",
         "35.87696298664709",
         "3.607587046779322"
        ],
        [
         "20",
         "64.65648768921554",
         "64.65648768921554",
         "4.184436418245716"
        ],
        [
         "21",
         "47.74223699513465",
         "47.74223699513465",
         "3.886545943638199"
        ],
        [
         "22",
         "50.67528204687924",
         "50.67528204687924",
         "3.9449795636444556"
        ],
        [
         "23",
         "35.75251813786544",
         "35.75251813786544",
         "3.604206744069649"
        ],
        [
         "24",
         "44.556172754748175",
         "44.556172754748175",
         "3.818946130545317"
        ],
        [
         "25",
         "51.10922589709866",
         "51.10922589709866",
         "3.9533420136409254"
        ],
        [
         "26",
         "38.490064225776976",
         "38.490064225776976",
         "3.676049101678015"
        ],
        [
         "27",
         "53.75698018345672",
         "53.75698018345672",
         "4.002904852505487"
        ],
        [
         "28",
         "43.99361310081195",
         "43.99361310081195",
         "3.806520548604081"
        ],
        [
         "29",
         "47.083062502067236",
         "47.083062502067236",
         "3.872929984164907"
        ],
        [
         "30",
         "43.98293387770603",
         "43.98293387770603",
         "3.8062831706758393"
        ],
        [
         "31",
         "68.52278184508938",
         "65.61982946879203",
         "4.241654495189488"
        ],
        [
         "32",
         "49.86502775262066",
         "49.86502775262066",
         "3.929175609858866"
        ],
        [
         "33",
         "39.422890710440996",
         "39.422890710440996",
         "3.6993962262525333"
        ],
        [
         "34",
         "58.225449121031886",
         "58.225449121031886",
         "4.081351333317605"
        ],
        [
         "35",
         "37.791563500289776",
         "37.791563500289776",
         "3.658202787427147"
        ],
        [
         "36",
         "52.08863595004755",
         "52.08863595004755",
         "3.971962893103847"
        ],
        [
         "37",
         "30.403298761202244",
         "32.99721751701528",
         "3.446912943485447"
        ],
        [
         "38",
         "36.71813951101569",
         "36.71813951101569",
         "3.630141132874777"
        ],
        [
         "39",
         "51.96861235869123",
         "51.96861235869123",
         "3.9696995184734654"
        ],
        [
         "40",
         "57.38466579995411",
         "57.38466579995411",
         "4.067053283437546"
        ],
        [
         "41",
         "51.7136828118997",
         "51.7136828118997",
         "3.9648750577471747"
        ],
        [
         "42",
         "48.843517176117594",
         "48.843517176117594",
         "3.908888441333552"
        ],
        [
         "43",
         "46.98896304410711",
         "46.98896304410711",
         "3.8709710478873203"
        ],
        [
         "44",
         "35.214780096325725",
         "35.214780096325725",
         "3.5894673254578118"
        ],
        [
         "45",
         "42.801557916052914",
         "42.801557916052914",
         "3.779669385609499"
        ],
        [
         "46",
         "45.393612290402125",
         "45.393612290402125",
         "3.837161783600228"
        ],
        [
         "47",
         "60.57122226218915",
         "60.57122226218915",
         "4.120194590312714"
        ],
        [
         "48",
         "53.43618289568462",
         "53.43618289568462",
         "3.997029059522036"
        ],
        [
         "49",
         "32.36959844637266",
         "32.99721751701528",
         "3.50764525931877"
        ]
       ],
       "shape": {
        "columns": 3,
        "rows": 103
       }
      },
      "text/html": [
       "<div>\n",
       "<style scoped>\n",
       "    .dataframe tbody tr th:only-of-type {\n",
       "        vertical-align: middle;\n",
       "    }\n",
       "\n",
       "    .dataframe tbody tr th {\n",
       "        vertical-align: top;\n",
       "    }\n",
       "\n",
       "    .dataframe thead th {\n",
       "        text-align: right;\n",
       "    }\n",
       "</style>\n",
       "<table border=\"1\" class=\"dataframe\">\n",
       "  <thead>\n",
       "    <tr style=\"text-align: right;\">\n",
       "      <th></th>\n",
       "      <th>Value</th>\n",
       "      <th>Capped</th>\n",
       "      <th>Log_Transformed</th>\n",
       "    </tr>\n",
       "  </thead>\n",
       "  <tbody>\n",
       "    <tr>\n",
       "      <th>0</th>\n",
       "      <td>54.967142</td>\n",
       "      <td>54.967142</td>\n",
       "      <td>4.024765</td>\n",
       "    </tr>\n",
       "    <tr>\n",
       "      <th>1</th>\n",
       "      <td>48.617357</td>\n",
       "      <td>48.617357</td>\n",
       "      <td>3.904341</td>\n",
       "    </tr>\n",
       "    <tr>\n",
       "      <th>2</th>\n",
       "      <td>56.476885</td>\n",
       "      <td>56.476885</td>\n",
       "      <td>4.051383</td>\n",
       "    </tr>\n",
       "    <tr>\n",
       "      <th>3</th>\n",
       "      <td>65.230299</td>\n",
       "      <td>65.230299</td>\n",
       "      <td>4.193138</td>\n",
       "    </tr>\n",
       "    <tr>\n",
       "      <th>4</th>\n",
       "      <td>47.658466</td>\n",
       "      <td>47.658466</td>\n",
       "      <td>3.884826</td>\n",
       "    </tr>\n",
       "    <tr>\n",
       "      <th>...</th>\n",
       "      <td>...</td>\n",
       "      <td>...</td>\n",
       "      <td>...</td>\n",
       "    </tr>\n",
       "    <tr>\n",
       "      <th>98</th>\n",
       "      <td>50.051135</td>\n",
       "      <td>50.051135</td>\n",
       "      <td>3.932828</td>\n",
       "    </tr>\n",
       "    <tr>\n",
       "      <th>99</th>\n",
       "      <td>47.654129</td>\n",
       "      <td>47.654129</td>\n",
       "      <td>3.884737</td>\n",
       "    </tr>\n",
       "    <tr>\n",
       "      <th>100</th>\n",
       "      <td>120.000000</td>\n",
       "      <td>65.619829</td>\n",
       "      <td>4.795791</td>\n",
       "    </tr>\n",
       "    <tr>\n",
       "      <th>101</th>\n",
       "      <td>130.000000</td>\n",
       "      <td>65.619829</td>\n",
       "      <td>4.875197</td>\n",
       "    </tr>\n",
       "    <tr>\n",
       "      <th>102</th>\n",
       "      <td>140.000000</td>\n",
       "      <td>65.619829</td>\n",
       "      <td>4.948760</td>\n",
       "    </tr>\n",
       "  </tbody>\n",
       "</table>\n",
       "<p>103 rows × 3 columns</p>\n",
       "</div>"
      ],
      "text/plain": [
       "          Value     Capped  Log_Transformed\n",
       "0     54.967142  54.967142         4.024765\n",
       "1     48.617357  48.617357         3.904341\n",
       "2     56.476885  56.476885         4.051383\n",
       "3     65.230299  65.230299         4.193138\n",
       "4     47.658466  47.658466         3.884826\n",
       "..          ...        ...              ...\n",
       "98    50.051135  50.051135         3.932828\n",
       "99    47.654129  47.654129         3.884737\n",
       "100  120.000000  65.619829         4.795791\n",
       "101  130.000000  65.619829         4.875197\n",
       "102  140.000000  65.619829         4.948760\n",
       "\n",
       "[103 rows x 3 columns]"
      ]
     },
     "execution_count": 10,
     "metadata": {},
     "output_type": "execute_result"
    }
   ],
   "source": [
    "df"
   ]
  },
  {
   "cell_type": "markdown",
   "metadata": {},
   "source": [
    "## 🛠️ **Method 3: Removing Outliers using Z-score**"
   ]
  },
  {
   "cell_type": "code",
   "execution_count": 11,
   "metadata": {},
   "outputs": [],
   "source": [
    "df['Z_Score'] = zscore(df['Value'])\n",
    "df_cleaned = df[(df['Z_Score'].abs() < 3)]  # Keeping only values within 3 standard deviations"
   ]
  },
  {
   "cell_type": "code",
   "execution_count": 12,
   "metadata": {},
   "outputs": [
    {
     "data": {
      "application/vnd.microsoft.datawrangler.viewer.v0+json": {
       "columns": [
        {
         "name": "index",
         "rawType": "int64",
         "type": "integer"
        },
        {
         "name": "Value",
         "rawType": "float64",
         "type": "float"
        },
        {
         "name": "Capped",
         "rawType": "float64",
         "type": "float"
        },
        {
         "name": "Log_Transformed",
         "rawType": "float64",
         "type": "float"
        },
        {
         "name": "Z_Score",
         "rawType": "float64",
         "type": "float"
        }
       ],
       "conversionMethod": "pd.DataFrame",
       "ref": "d8f3a590-b7a2-4dc3-b158-6ee4d1e2cae0",
       "rows": [
        [
         "0",
         "54.96714153011233",
         "54.96714153011233",
         "4.024764760134226",
         "0.22311858790295988"
        ],
        [
         "1",
         "48.61735698828815",
         "48.61735698828815",
         "3.9043407117964155",
         "-0.16553785138167848"
        ],
        [
         "2",
         "56.47688538100692",
         "56.47688538100692",
         "4.051382873608516",
         "0.3155267106440824"
        ],
        [
         "3",
         "65.23029856408026",
         "65.23029856408026",
         "4.193138040475256",
         "0.8513040077967731"
        ],
        [
         "4",
         "47.658466252766644",
         "47.658466252766644",
         "3.884825817186748",
         "-0.22422945839229255"
        ],
        [
         "5",
         "47.6586304305082",
         "47.6586304305082",
         "3.884829191264832",
         "-0.224219409431415"
        ],
        [
         "6",
         "65.79212815507391",
         "65.61982946879203",
         "4.201585231608775",
         "0.8856923696194575"
        ],
        [
         "7",
         "57.67434729152909",
         "57.67434729152909",
         "4.072002617542774",
         "0.38882073806455036"
        ],
        [
         "8",
         "45.30525614065048",
         "45.30525614065048",
         "3.8352554782050428",
         "-0.36826430824263545"
        ],
        [
         "9",
         "55.42560043585965",
         "55.42560043585965",
         "4.032922963955969",
         "0.25117985591803127"
        ],
        [
         "10",
         "45.365823071875376",
         "45.365823071875376",
         "3.836562616103152",
         "-0.36455713870432793"
        ],
        [
         "11",
         "45.34270246429743",
         "45.34270246429743",
         "3.836063835480257",
         "-0.36597230058205044"
        ],
        [
         "12",
         "52.41962271566034",
         "52.41962271566034",
         "3.9781781450522384",
         "0.06719052689333492"
        ],
        [
         "13",
         "30.86719755342202",
         "32.99721751701528",
         "3.4615771908766897",
         "-1.2519863312080228"
        ],
        [
         "14",
         "32.75082167486967",
         "32.99721751701528",
         "3.519004762944246",
         "-1.1366938139311793"
        ],
        [
         "15",
         "44.37712470759027",
         "44.37712470759027",
         "3.815008117000366",
         "-0.4250732055501494"
        ],
        [
         "16",
         "39.87168879665576",
         "39.87168879665576",
         "3.710437617903203",
         "-0.7008410945289301"
        ],
        [
         "17",
         "53.142473325952736",
         "53.142473325952736",
         "3.991618967035414",
         "0.1114346335209689"
        ],
        [
         "18",
         "40.91975924478789",
         "40.91975924478789",
         "3.735757296789899",
         "-0.6366909921423902"
        ],
        [
         "19",
         "35.87696298664709",
         "35.87696298664709",
         "3.607587046779322",
         "-0.9453495339901511"
        ],
        [
         "20",
         "64.65648768921554",
         "64.65648768921554",
         "4.184436418245716",
         "0.8161822977641273"
        ],
        [
         "21",
         "47.74223699513465",
         "47.74223699513465",
         "3.886545943638199",
         "-0.21910203426781583"
        ],
        [
         "22",
         "50.67528204687924",
         "50.67528204687924",
         "3.9449795636444556",
         "-0.03957675454155361"
        ],
        [
         "23",
         "35.75251813786544",
         "35.75251813786544",
         "3.604206744069649",
         "-0.9529665313065507"
        ],
        [
         "24",
         "44.556172754748175",
         "44.556172754748175",
         "3.818946130545317",
         "-0.41411406575400317"
        ],
        [
         "25",
         "51.10922589709866",
         "51.10922589709866",
         "3.9533420136409254",
         "-0.013015999516738997"
        ],
        [
         "26",
         "38.490064225776976",
         "38.490064225776976",
         "3.676049101678015",
         "-0.7854073160454244"
        ],
        [
         "27",
         "53.75698018345672",
         "53.75698018345672",
         "4.002904852505487",
         "0.14904725574151412"
        ],
        [
         "28",
         "43.99361310081195",
         "43.99361310081195",
         "3.806520548604081",
         "-0.4485471131344171"
        ],
        [
         "29",
         "47.083062502067236",
         "47.083062502067236",
         "3.872929984164907",
         "-0.2594486648747871"
        ],
        [
         "30",
         "43.98293387770603",
         "43.98293387770603",
         "3.8062831706758393",
         "-0.44920076504958584"
        ],
        [
         "31",
         "68.52278184508938",
         "65.61982946879203",
         "4.241654495189488",
         "1.052829716263346"
        ],
        [
         "32",
         "49.86502775262066",
         "49.86502775262066",
         "3.929175609858866",
         "-0.08917064971191763"
        ],
        [
         "33",
         "39.422890710440996",
         "39.422890710440996",
         "3.6993962262525333",
         "-0.7283110448866283"
        ],
        [
         "34",
         "58.225449121031886",
         "58.225449121031886",
         "4.081351333317605",
         "0.4225524770435669"
        ],
        [
         "35",
         "37.791563500289776",
         "37.791563500289776",
         "3.658202787427147",
         "-0.8281610194218859"
        ],
        [
         "36",
         "52.08863595004755",
         "52.08863595004755",
         "3.971962893103847",
         "0.046931550084580366"
        ],
        [
         "37",
         "30.403298761202244",
         "32.99721751701528",
         "3.446912943485447",
         "-1.280380562789428"
        ],
        [
         "38",
         "36.71813951101569",
         "36.71813951101569",
         "3.630141132874777",
         "-0.8938629566712599"
        ],
        [
         "39",
         "51.96861235869123",
         "51.96861235869123",
         "3.9696995184734654",
         "0.039585168275962104"
        ],
        [
         "40",
         "57.38466579995411",
         "57.38466579995411",
         "4.067053283437546",
         "0.371089966839067"
        ],
        [
         "41",
         "51.7136828118997",
         "51.7136828118997",
         "3.9648750577471747",
         "0.023981487667300263"
        ],
        [
         "42",
         "48.843517176117594",
         "48.843517176117594",
         "3.908888441333552",
         "-0.15169508038200538"
        ],
        [
         "43",
         "46.98896304410711",
         "46.98896304410711",
         "3.8709710478873203",
         "-0.2652082871152751"
        ],
        [
         "44",
         "35.214780096325725",
         "35.214780096325725",
         "3.5894673254578118",
         "-0.9858803020205219"
        ],
        [
         "45",
         "42.801557916052914",
         "42.801557916052914",
         "3.779669385609499",
         "-0.5215102066831221"
        ],
        [
         "46",
         "45.393612290402125",
         "45.393612290402125",
         "3.837161783600228",
         "-0.3628562213500509"
        ],
        [
         "47",
         "60.57122226218915",
         "60.57122226218915",
         "4.120194590312714",
         "0.5661321261492371"
        ],
        [
         "48",
         "53.43618289568462",
         "53.43618289568462",
         "3.997029059522036",
         "0.12941195461020105"
        ],
        [
         "49",
         "32.36959844637266",
         "32.99721751701528",
         "3.50764525931877",
         "-1.1600276548803206"
        ]
       ],
       "shape": {
        "columns": 4,
        "rows": 103
       }
      },
      "text/html": [
       "<div>\n",
       "<style scoped>\n",
       "    .dataframe tbody tr th:only-of-type {\n",
       "        vertical-align: middle;\n",
       "    }\n",
       "\n",
       "    .dataframe tbody tr th {\n",
       "        vertical-align: top;\n",
       "    }\n",
       "\n",
       "    .dataframe thead th {\n",
       "        text-align: right;\n",
       "    }\n",
       "</style>\n",
       "<table border=\"1\" class=\"dataframe\">\n",
       "  <thead>\n",
       "    <tr style=\"text-align: right;\">\n",
       "      <th></th>\n",
       "      <th>Value</th>\n",
       "      <th>Capped</th>\n",
       "      <th>Log_Transformed</th>\n",
       "      <th>Z_Score</th>\n",
       "    </tr>\n",
       "  </thead>\n",
       "  <tbody>\n",
       "    <tr>\n",
       "      <th>0</th>\n",
       "      <td>54.967142</td>\n",
       "      <td>54.967142</td>\n",
       "      <td>4.024765</td>\n",
       "      <td>0.223119</td>\n",
       "    </tr>\n",
       "    <tr>\n",
       "      <th>1</th>\n",
       "      <td>48.617357</td>\n",
       "      <td>48.617357</td>\n",
       "      <td>3.904341</td>\n",
       "      <td>-0.165538</td>\n",
       "    </tr>\n",
       "    <tr>\n",
       "      <th>2</th>\n",
       "      <td>56.476885</td>\n",
       "      <td>56.476885</td>\n",
       "      <td>4.051383</td>\n",
       "      <td>0.315527</td>\n",
       "    </tr>\n",
       "    <tr>\n",
       "      <th>3</th>\n",
       "      <td>65.230299</td>\n",
       "      <td>65.230299</td>\n",
       "      <td>4.193138</td>\n",
       "      <td>0.851304</td>\n",
       "    </tr>\n",
       "    <tr>\n",
       "      <th>4</th>\n",
       "      <td>47.658466</td>\n",
       "      <td>47.658466</td>\n",
       "      <td>3.884826</td>\n",
       "      <td>-0.224229</td>\n",
       "    </tr>\n",
       "    <tr>\n",
       "      <th>...</th>\n",
       "      <td>...</td>\n",
       "      <td>...</td>\n",
       "      <td>...</td>\n",
       "      <td>...</td>\n",
       "    </tr>\n",
       "    <tr>\n",
       "      <th>98</th>\n",
       "      <td>50.051135</td>\n",
       "      <td>50.051135</td>\n",
       "      <td>3.932828</td>\n",
       "      <td>-0.077779</td>\n",
       "    </tr>\n",
       "    <tr>\n",
       "      <th>99</th>\n",
       "      <td>47.654129</td>\n",
       "      <td>47.654129</td>\n",
       "      <td>3.884737</td>\n",
       "      <td>-0.224495</td>\n",
       "    </tr>\n",
       "    <tr>\n",
       "      <th>100</th>\n",
       "      <td>120.000000</td>\n",
       "      <td>65.619829</td>\n",
       "      <td>4.795791</td>\n",
       "      <td>4.203638</td>\n",
       "    </tr>\n",
       "    <tr>\n",
       "      <th>101</th>\n",
       "      <td>130.000000</td>\n",
       "      <td>65.619829</td>\n",
       "      <td>4.875197</td>\n",
       "      <td>4.815716</td>\n",
       "    </tr>\n",
       "    <tr>\n",
       "      <th>102</th>\n",
       "      <td>140.000000</td>\n",
       "      <td>65.619829</td>\n",
       "      <td>4.948760</td>\n",
       "      <td>5.427794</td>\n",
       "    </tr>\n",
       "  </tbody>\n",
       "</table>\n",
       "<p>103 rows × 4 columns</p>\n",
       "</div>"
      ],
      "text/plain": [
       "          Value     Capped  Log_Transformed   Z_Score\n",
       "0     54.967142  54.967142         4.024765  0.223119\n",
       "1     48.617357  48.617357         3.904341 -0.165538\n",
       "2     56.476885  56.476885         4.051383  0.315527\n",
       "3     65.230299  65.230299         4.193138  0.851304\n",
       "4     47.658466  47.658466         3.884826 -0.224229\n",
       "..          ...        ...              ...       ...\n",
       "98    50.051135  50.051135         3.932828 -0.077779\n",
       "99    47.654129  47.654129         3.884737 -0.224495\n",
       "100  120.000000  65.619829         4.795791  4.203638\n",
       "101  130.000000  65.619829         4.875197  4.815716\n",
       "102  140.000000  65.619829         4.948760  5.427794\n",
       "\n",
       "[103 rows x 4 columns]"
      ]
     },
     "execution_count": 12,
     "metadata": {},
     "output_type": "execute_result"
    }
   ],
   "source": [
    "df"
   ]
  },
  {
   "cell_type": "markdown",
   "metadata": {},
   "source": [
    "## Boxplot after handling outliers"
   ]
  },
  {
   "cell_type": "code",
   "execution_count": 13,
   "metadata": {},
   "outputs": [
    {
     "data": {
      "image/png": "[encoded data removed]",
      "text/plain": [
       "<Figure size 600x400 with 1 Axes>"
      ]
     },
     "metadata": {},
     "output_type": "display_data"
    }
   ],
   "source": [
    "plt.figure(figsize=(6, 4))\n",
    "plt.boxplot(df_cleaned['Value'])\n",
    "plt.title(\"Box Plot - After Outlier Handling (Z-Score Method)\")\n",
    "plt.show()"
   ]
  },
  {
   "cell_type": "markdown",
   "metadata": {},
   "source": [
    "## Display results"
   ]
  },
  {
   "cell_type": "code",
   "execution_count": 14,
   "metadata": {},
   "outputs": [
    {
     "name": "stdout",
     "output_type": "stream",
     "text": [
      "Before Handling Outliers:\n",
      "             Value      Capped  Log_Transformed       Z_Score\n",
      "count  103.000000  103.000000       103.000000  1.030000e+02\n",
      "mean    51.321878   49.588123         3.922166 -5.346317e-16\n",
      "std     16.417675    8.953544         0.252448  1.004890e+00\n",
      "min     23.802549   32.997218         3.210946 -1.684398e+00\n",
      "25%     44.185369   44.185369         3.810764 -4.368102e-01\n",
      "50%     49.279899   49.279899         3.917605 -1.249851e-01\n",
      "75%     55.279137   55.279137         4.030321  2.422152e-01\n",
      "max    140.000000   65.619829         4.948760  5.427794e+00\n",
      "\n",
      "After Removing Outliers (Z-Score Method):\n",
      "             Value      Capped  Log_Transformed     Z_Score\n",
      "count  100.000000  100.000000       100.000000  100.000000\n",
      "mean    48.961535   49.107172         3.893634   -0.144471\n",
      "std      9.081684    8.635578         0.193158    0.555870\n",
      "min     23.802549   32.997218         3.210946   -1.684398\n",
      "25%     43.990943   43.990943         3.806461   -0.448711\n",
      "50%     48.730437   48.730437         3.906615   -0.158616\n",
      "75%     54.059521   54.059521         4.008370    0.167565\n",
      "max     68.522782   65.619829         4.241654    1.052830\n"
     ]
    }
   ],
   "source": [
    "# Display results\n",
    "print(\"Before Handling Outliers:\\n\", df.describe())\n",
    "print(\"\\nAfter Removing Outliers (Z-Score Method):\\n\", df_cleaned.describe())"
   ]
  }
 ],
 "metadata": {
  "kernelspec": {
   "display_name": "Python 3",
   "language": "python",
   "name": "python3"
  },
  "language_info": {
   "codemirror_mode": {
    "name": "ipython",
    "version": 3
   },
   "file_extension": ".py",
   "mimetype": "text/x-python",
   "name": "python",
   "nbconvert_exporter": "python",
   "pygments_lexer": "ipython3",
   "version": "3.13.1"
  }
 },
 "nbformat": 4,
 "nbformat_minor": 2
}

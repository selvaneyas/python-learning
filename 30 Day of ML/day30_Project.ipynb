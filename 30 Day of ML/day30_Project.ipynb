{
 "cells": [
  {
   "cell_type": "markdown",
   "metadata": {},
   "source": [
    "# End-to-End ML Project - Customer Churn Prediction"
   ]
  },
  {
   "cell_type": "markdown",
   "metadata": {},
   "source": [
    "## 📌 Overview of the Project\n",
    "\n",
    "✅ Load dataset\n",
    "\n",
    "✅ Data Preprocessing\n",
    "\n",
    "✅ Train a Machine Learning Model\n",
    "\n",
    "✅ Evaluate model performance\n",
    "\n",
    "✅ Save & Deploy the Model using Flask or Streamlit"
   ]
  },
  {
   "cell_type": "markdown",
   "metadata": {},
   "source": [
    "## 📌 Step 1: Save the Dataset (dataset.csv)"
   ]
  },
  {
   "cell_type": "code",
   "execution_count": null,
   "metadata": {},
   "outputs": [],
   "source": [
    "%%writefile dataset.csv\n",
    "\n",
    "customer_id,age,gender,monthly_spending,contract_length,num_support_tickets,churn\n",
    "1001,25,1,75.5,12,1,0\n",
    "1002,40,0,45.3,24,2,0\n",
    "1003,34,1,89.2,6,5,1\n",
    "1004,28,0,55.6,12,1,0\n",
    "1005,50,1,120.8,24,0,0\n",
    "1006,45,0,135.6,12,3,1\n",
    "1007,23,1,48.9,6,4,1\n",
    "1008,37,0,78.3,12,1,0\n",
    "1009,60,1,99.5,24,2,0\n",
    "1010,31,0,65.7,6,3,1\n",
    "1011,42,1,102.1,24,1,0\n",
    "1012,29,0,57.4,12,0,0\n",
    "1013,56,1,110.2,12,2,1\n",
    "1014,48,0,130.9,24,4,1\n",
    "1015,35,1,95.4,6,1,0\n",
    "1016,22,0,43.2,12,5,1\n",
    "1017,27,1,58.5,24,2,0\n",
    "1018,52,0,118.3,12,0,0\n",
    "1019,39,1,90.1,6,3,1\n",
    "1020,30,0,67.2,12,1,0\n"
   ]
  },
  {
   "cell_type": "markdown",
   "metadata": {},
   "source": [
    "## 📌 Step 2: Train the ML Model (train_model.py)"
   ]
  },
  {
   "cell_type": "code",
   "execution_count": null,
   "metadata": {},
   "outputs": [],
   "source": [
    "%%writefile train_model.py\n",
    "\n",
    "import pandas as pd\n",
    "import numpy as np\n",
    "import joblib\n",
    "from sklearn.model_selection import train_test_split\n",
    "from sklearn.preprocessing import StandardScaler\n",
    "from sklearn.linear_model import LogisticRegression\n",
    "from sklearn.metrics import accuracy_score\n",
    "\n",
    "# Load dataset\n",
    "df = pd.read_csv(\"dataset.csv\")\n",
    "\n",
    "# Select features and target variable\n",
    "X = df[['age', 'gender', 'monthly_spending', 'contract_length', 'num_support_tickets']]\n",
    "y = df['churn']\n",
    "\n",
    "# Split dataset into train and test sets (80% train, 20% test)\n",
    "X_train, X_test, y_train, y_test = train_test_split(X, y, test_size=0.2, random_state=42)\n",
    "\n",
    "# Normalize features\n",
    "scaler = StandardScaler()\n",
    "X_train_scaled = scaler.fit_transform(X_train)\n",
    "X_test_scaled = scaler.transform(X_test)\n",
    "\n",
    "# Train Logistic Regression model\n",
    "model = LogisticRegression()\n",
    "model.fit(X_train_scaled, y_train)\n",
    "\n",
    "# Predictions\n",
    "y_pred = model.predict(X_test_scaled)\n",
    "\n",
    "# Evaluate model performance\n",
    "accuracy = accuracy_score(y_test, y_pred)\n",
    "print(f\"Model Accuracy: {accuracy:.2f}\")\n",
    "\n",
    "# Save trained model and scaler\n",
    "joblib.dump(model, \"churn_model.pkl\")\n",
    "joblib.dump(scaler, \"scaler.pkl\")\n",
    "\n",
    "print(\"✅ Model and scaler saved successfully!\")\n"
   ]
  },
  {
   "cell_type": "markdown",
   "metadata": {},
   "source": [
    "## 📌 Step 3: Deploy with Streamlit (app.py)"
   ]
  },
  {
   "cell_type": "code",
   "execution_count": null,
   "metadata": {},
   "outputs": [],
   "source": [
    "%%writefile app.py\n",
    "\n",
    "import streamlit as st\n",
    "import pandas as pd\n",
    "import joblib\n",
    "\n",
    "# Load model and scaler\n",
    "model = joblib.load(\"churn_model.pkl\")\n",
    "scaler = joblib.load(\"scaler.pkl\")\n",
    "\n",
    "# Streamlit UI\n",
    "st.title(\"📊 Customer Churn Prediction App\")\n",
    "st.write(\"Enter customer details to predict churn probability.\")\n",
    "\n",
    "# User input fields\n",
    "age = st.number_input(\"Age\", min_value=18, max_value=100, value=30)\n",
    "gender = st.radio(\"Gender\", [\"Male\", \"Female\"])\n",
    "monthly_spending = st.number_input(\"Monthly Spending ($)\", min_value=0.0, max_value=500.0, value=50.0)\n",
    "contract_length = st.slider(\"Contract Length (months)\", min_value=1, max_value=24, value=12)\n",
    "num_support_tickets = st.number_input(\"Number of Support Tickets\", min_value=0, max_value=10, value=1)\n",
    "\n",
    "# Convert gender to numerical format\n",
    "gender = 1 if gender == \"Male\" else 0\n",
    "\n",
    "# Make prediction\n",
    "if st.button(\"Predict Churn\"):\n",
    "    user_data = [[age, gender, monthly_spending, contract_length, num_support_tickets]]\n",
    "    user_data_scaled = scaler.transform(user_data)\n",
    "    \n",
    "    churn_prediction = model.predict(user_data_scaled)[0]\n",
    "    churn_probability = model.predict_proba(user_data_scaled)[0][1]\n",
    "    \n",
    "    if churn_prediction == 1:\n",
    "        st.error(f\"🚨 This customer is **likely to churn** (Probability: {churn_probability:.2f})\")\n",
    "    else:\n",
    "        st.success(f\"✅ This customer is **not likely to churn** (Probability: {1 - churn_probability:.2f})\")\n"
   ]
  },
  {
   "cell_type": "markdown",
   "metadata": {},
   "source": [
    "## 📌 Step 4: Run the Project"
   ]
  },
  {
   "cell_type": "markdown",
   "metadata": {},
   "source": [
    "### 1️⃣ Train the Model\n",
    "\n",
    "Run the following command in VS Code Jupyter Notebook / Terminal to train the model:\n",
    "\n",
    "- python train_model.py\n",
    "\n",
    "✔️ This will create:\n",
    "\n",
    "   - churn_model.pkl (Trained model)\n",
    "\n",
    "   - scaler.pkl (Scaler for normalization)\n",
    "\n"
   ]
  },
  {
   "cell_type": "code",
   "execution_count": null,
   "metadata": {},
   "outputs": [],
   "source": [
    "!python train_model.py"
   ]
  },
  {
   "cell_type": "markdown",
   "metadata": {},
   "source": [
    "### 2️⃣ Run the Streamlit App\n",
    "Now, run the Streamlit web app:\n",
    "\n",
    "- streamlit run app.py\n",
    "\n",
    "✔️ This will open a web interface where you can enter customer details and predict churn."
   ]
  },
  {
   "cell_type": "code",
   "execution_count": null,
   "metadata": {},
   "outputs": [],
   "source": [
    "!streamlit run app.py"
   ]
  },
  {
   "cell_type": "markdown",
   "metadata": {},
   "source": [
    "## 📌 Step 5: Upload to GitHub\n",
    "\n",
    "### 1️⃣ Initialize Git in your project folder:\n",
    "\n",
    "- git init\n",
    "- git add .\n",
    "- git commit -m \"End-to-End ML Project - Customer Churn Prediction\"\n",
    "\n",
    "### 2️⃣ Create a GitHub repository and push the project:\n",
    "\n",
    "- git remote add origin https://github.com/<..>/customer-churn-prediction.git\n",
    "- git branch -M main\n",
    "- git push -u origin main\n"
   ]
  },
  {
   "cell_type": "markdown",
   "metadata": {},
   "source": []
  }
 ],
 "metadata": {
  "kernelspec": {
   "display_name": "base",
   "language": "python",
   "name": "python3"
  },
  "language_info": {
   "codemirror_mode": {
    "name": "ipython",
    "version": 3
   },
   "file_extension": ".py",
   "mimetype": "text/x-python",
   "name": "python",
   "nbconvert_exporter": "python",
   "pygments_lexer": "ipython3",
   "version": "3.12.3"
  }
 },
 "nbformat": 4,
 "nbformat_minor": 2
}

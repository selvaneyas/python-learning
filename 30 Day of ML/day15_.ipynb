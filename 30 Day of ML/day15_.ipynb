{
 "cells": [
  {
   "cell_type": "markdown",
   "metadata": {},
   "source": [
    "#  🌳🤖 Day 15 — Decision Trees in Machine Learning \n",
    "\n",
    "Decision Trees, a powerful and intuitive algorithm for both classification and regression tasks.\n",
    "\n",
    "## 🌳 What is a Decision Tree?\n",
    "A Decision Tree is a flowchart-like structure where:\n",
    "\n",
    "- Each internal node represents a decision on a feature.\n",
    "\n",
    "- Each branch represents an outcome of that decision.\n",
    "\n",
    "- Each leaf node represents a final output label (class/number).\n",
    "\n",
    "✅ Easy to interpret\n",
    "\n",
    "✅ Handles numerical & categorical data\n",
    "\n",
    "✅ Non-linear relationships\n",
    "\n",
    "## 💡 How does it work?\n",
    "- Splits data based on the feature that best separates the classes/values.\n",
    "Uses criteria like:\n",
    "  - Gini Index or Entropy (Information Gain) for classification.\n",
    "  - Mean Squared Error (MSE) for regression.\n",
    "## 📊 Applications\n",
    "- Classification (e.g., Spam Detection, Loan Approval)\n",
    "- Regression (e.g., House Price Prediction)\n",
    "- Feature Importance Ranking\n"
   ]
  },
  {
   "cell_type": "markdown",
   "metadata": {},
   "source": []
  }
 ],
 "metadata": {
  "language_info": {
   "name": "python"
  }
 },
 "nbformat": 4,
 "nbformat_minor": 2
}

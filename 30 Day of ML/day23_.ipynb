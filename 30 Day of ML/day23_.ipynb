{
 "cells": [
  {
   "cell_type": "markdown",
   "metadata": {},
   "source": [
    "# 👩‍💻 𝐃𝐚𝐲 𝟐𝟑: 𝐃𝐁𝐒𝐂𝐀𝐍 – 𝐃𝐞𝐧𝐬𝐢𝐭𝐲-𝐁𝐚𝐬𝐞𝐝 𝐂𝐥𝐮𝐬𝐭𝐞𝐫𝐢𝐧𝐠 𝐟𝐨𝐫 𝐀𝐧𝐨𝐦𝐚𝐥𝐲 𝐃𝐞𝐭𝐞𝐜𝐭𝐢𝐨𝐧 | 𝟑𝟎-𝐃𝐚𝐲 𝐌𝐋 𝐂𝐡𝐚𝐥𝐥𝐞𝐧𝐠𝐞\n",
    "\n",
    "DBSCAN (Density-Based Spatial Clustering of Applications with Noise) is a powerful clustering algorithm that identifies dense regions in data and separates them from noise (outliers). Unlike k-Means, it does not require predefining the number of clusters and can detect clusters of arbitrary shapes.\n",
    "\n",
    "## 🚀 𝐖𝐡𝐲 𝐃𝐁𝐒𝐂𝐀𝐍?\n",
    " ✅ Detects anomalies/outliers in datasets.\n",
    "\n",
    " ✅ Handles clusters of different densities & shapes effectively.\n",
    " \n",
    " ✅ Works well for large datasets with noise.\n",
    "\n",
    "## 📊 𝐇𝐨𝐰 𝐃𝐁𝐒𝐂𝐀𝐍 𝐖𝐨𝐫𝐤𝐬?\n",
    " 1️⃣ Defines core points with minimum neighbors (MinPts) within a given radius (ε).\n",
    "\n",
    " 2️⃣ Expands clusters from core points while marking noise/outliers.\n",
    "\n",
    " 3️⃣ Assigns remaining points to the nearest cluster.\n",
    "\n",
    "## 🔍 𝐊𝐞𝐲 𝐓𝐚𝐤𝐞𝐚𝐰𝐚𝐲𝐬:\n",
    " 🔹 Handles noise and anomalies better than k-Means.\n",
    "\n",
    " 🔹 No need to specify number of clusters beforehand.\n",
    "\n",
    " 🔹 Works well for geospatial data, anomaly detection, and customer segmentation."
   ]
  },
  {
   "cell_type": "markdown",
   "metadata": {},
   "source": []
  }
 ],
 "metadata": {
  "language_info": {
   "name": "python"
  }
 },
 "nbformat": 4,
 "nbformat_minor": 2
}
